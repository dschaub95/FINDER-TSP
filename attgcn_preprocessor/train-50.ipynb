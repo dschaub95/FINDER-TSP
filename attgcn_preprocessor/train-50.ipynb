{
 "cells": [
  {
   "cell_type": "markdown",
   "metadata": {},
   "source": [
    "# Graph Neural Network for multiscale solver in the Traveling Salesman Problem\n",
    "\n",
    "This notebook is designed to predict the edge's probability belongs to optimized solution. \n",
    "\n",
    "In general, the input of GNN contains cooordinate($n_i \\in R^{2}$), edges values(distance) and targeted edges, and meanwhile our GNN consists of $30$ graph convolutional layers and $3$ layers in MLP with hidden dimension $h=300$ for each layers."
   ]
  },
  {
   "cell_type": "code",
   "execution_count": null,
   "metadata": {},
   "outputs": [],
   "source": [
    "import os\n",
    "\n",
    "import numpy as np\n",
    "\n",
    "import torch\n",
    "\n",
    "from config import *\n",
    "from utils.process import *"
   ]
  },
  {
   "cell_type": "markdown",
   "metadata": {},
   "source": [
    "## 1. Set the model configuration parameters\n",
    "\n",
    "The cell below sets a number of parameters that define the model configuration. The parameters set here are being used both by the `get_config()` function."
   ]
  },
  {
   "cell_type": "code",
   "execution_count": null,
   "metadata": {},
   "outputs": [],
   "source": [
    "notebook_mode = True\n",
    "viz_mode = False\n",
    "\n",
    "# model-parameter\n",
    "config_path = \"configs/tsp50.json\"\n",
    "config = get_config(config_path)\n",
    "\n"
   ]
  },
  {
   "cell_type": "markdown",
   "metadata": {},
   "source": [
    "## 2. Build or load the model\n",
    "\n",
    "You will want to execute either of the two code cells in the subsequent two sub-sections, not both."
   ]
  },
  {
   "cell_type": "markdown",
   "metadata": {},
   "source": [
    "### 2.1 Create a new model\n",
    "\n",
    "If you want to create a new model, this is the relevant section for you. If you want to load a previously saved model, skip ahead to section 2.2."
   ]
  },
  {
   "cell_type": "code",
   "execution_count": null,
   "metadata": {},
   "outputs": [],
   "source": [
    "if viz_mode==False:\n",
    "\n",
    "    # tsp50--model\n",
    "    net = main(config, pretrained=False, patience=100, lr_scale=0.001, random_neighbor=False)"
   ]
  },
  {
   "cell_type": "markdown",
   "metadata": {},
   "source": [
    "### 2.2 Load a saved model\n",
    "\n",
    "If you have previously created and saved a model and would now like to load it, simply execute the next code cell."
   ]
  },
  {
   "cell_type": "code",
   "execution_count": null,
   "metadata": {
    "scrolled": true
   },
   "outputs": [],
   "source": [
    "if viz_mode==False:\n",
    "\n",
    "    # tsp50--model\n",
    "    net = main(config, pretrained=True, patience=100,\n",
    "               lr_scale=0.01, pretrained_path='./logs/tsp50/attgcn_preprocessor-2020-02-17 01:21:48/best_val_checkpoint.tar',\n",
    "               random_neighbor=False)"
   ]
  },
  {
   "cell_type": "code",
   "execution_count": null,
   "metadata": {},
   "outputs": [],
   "source": []
  }
 ],
 "metadata": {
  "kernelspec": {
   "display_name": "Python 3",
   "language": "python",
   "name": "python3"
  },
  "language_info": {
   "codemirror_mode": {
    "name": "ipython",
    "version": 3
   },
   "file_extension": ".py",
   "mimetype": "text/x-python",
   "name": "python",
   "nbconvert_exporter": "python",
   "pygments_lexer": "ipython3",
   "version": "3.7.2"
  }
 },
 "nbformat": 4,
 "nbformat_minor": 2
}
