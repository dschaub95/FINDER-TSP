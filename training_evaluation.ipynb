{
 "metadata": {
  "language_info": {
   "codemirror_mode": {
    "name": "ipython",
    "version": 3
   },
   "file_extension": ".py",
   "mimetype": "text/x-python",
   "name": "python",
   "nbconvert_exporter": "python",
   "pygments_lexer": "ipython3",
   "version": "3.7.3"
  },
  "orig_nbformat": 2,
  "kernelspec": {
   "name": "python373jvsc74a57bd098b0a9b7b4eaaa670588a142fd0a9b87eaafe866f1db4228be72b4211d12040f",
   "display_name": "Python 3.7.3 64-bit ('base': conda)"
  }
 },
 "nbformat": 4,
 "nbformat_minor": 2,
 "cells": [
  {
   "cell_type": "code",
   "execution_count": 2,
   "metadata": {},
   "outputs": [],
   "source": [
    "import tsplib95\n",
    "import pandas as pd\n",
    "import numpy as np\n",
    "import networkx as nx\n",
    "import matplotlib.pyplot as plt\n",
    "import matplotlib as mpl"
   ]
  },
  {
   "cell_type": "code",
   "execution_count": 17,
   "metadata": {},
   "outputs": [],
   "source": [
    "base_path = 'best_models/tsp_2d/'\n",
    "trainfile_list = ['nrange_10_20_len_1216625/ModelVC_10_20_len_1216625.csv', 'nrange_10_20_len_1274959/ModelVC_10_20_len_1274959.csv']\n",
    "\n",
    "df_edge_2_start_last = pd.read_csv(base_path+'nrange_10_20_len_1216625/ModelVC_10_20_len_1216625.csv', names=['opt_approx'])\n",
    "df_edge_1_start_last = pd.read_csv(base_path+'nrange_10_20_len_1274959/ModelVC_10_20_len_1274959.csv', names=['opt_approx'])"
   ]
  },
  {
   "cell_type": "code",
   "execution_count": 18,
   "metadata": {},
   "outputs": [],
   "source": [
    "df_edge_2_start_last['iteration'] = np.array(df_edge_2_start_last.index)*300\n",
    "df_edge_1_start_last['iteration'] = np.array(df_edge_1_start_last.index)*300"
   ]
  },
  {
   "cell_type": "code",
   "execution_count": 21,
   "metadata": {},
   "outputs": [
    {
     "output_type": "execute_result",
     "data": {
      "text/plain": [
       "[1.274958872746076]"
      ]
     },
     "metadata": {},
     "execution_count": 21
    }
   ],
   "source": [
    "minimum_edge_2_start_last = df_edge_2_start_last[df_edge_2_start_last['opt_approx'] == df_edge_2_start_last['opt_approx'].min()]\n",
    "[minimum_edge_2_start_last['opt_approx'].iloc[0]]\n",
    "\n",
    "minimum_edge_1_start_last = df_edge_1_start_last[df_edge_1_start_last['opt_approx'] == df_edge_1_start_last['opt_approx'].min()]\n",
    "[minimum_edge_1_start_last['opt_approx'].iloc[0]]"
   ]
  },
  {
   "cell_type": "code",
   "execution_count": 22,
   "metadata": {},
   "outputs": [],
   "source": [
    "mpl.style.use('seaborn-paper')\n",
    "#mpl.style.use('seaborn')\n",
    "#minimum = df[df['opt_approx'] == df['opt_approx'].min()]\n",
    "minimum_test = 1.018\n",
    "fig, axs = plt.subplots(1, 1, sharex=True, sharey=True)\n",
    "#df.plot(x='iteration', y='opt_approx', ax=axs, ylim=None, label='FINDER training')\n",
    "df_edge_2_start_last.plot(x='iteration', y='opt_approx', ax=axs, ylim=None, label='FINDER training with edge weight embedding')\n",
    "df_edge_1_start_last.plot(x='iteration', y='opt_approx', ax=axs, ylim=None, label='FINDER training with edge sum embedding')\n",
    "\n",
    "axs.scatter([minimum_edge_2_start_last['iteration'].iloc[0]], [minimum_edge_2_start_last['opt_approx'].iloc[0]], facecolors='none', linewidths=2, edgecolors='blue', \n",
    "            label='FINDER best model ({})'.format(np.round(minimum_edge_2_start_last['opt_approx'].iloc[0],3)))\n",
    "axs.scatter([minimum_edge_1_start_last['iteration'].iloc[0]], [minimum_edge_1_start_last['opt_approx'].iloc[0]], facecolors='none', linewidths=2, edgecolors='blue', \n",
    "            label='FINDER best model ({})'.format(np.round(minimum_edge_1_start_last['opt_approx'].iloc[0],3)))\n",
    "#axs.scatter([minimum_['iteration'].iloc[0]], [minimum_['opt_approx'].iloc[0]], facecolors='none', linewidths=2, edgecolors='blue', \n",
    " #           label='FINDER best model with helper function({})'.format(np.round(minimum_['opt_approx'].iloc[0],3)))\n",
    "axs.axhline(y = 1.015, color = 'black', linestyle = '--', label='S2V-DQN (1.015)')\n",
    "axs.legend()\n",
    "axs.set_ylabel('Aproxximation ratio to optimal')\n",
    "axs.set_xlabel('Iteration')\n",
    "plt.tight_layout()\n",
    "plt.savefig('plots/training.png', dpi=400)"
   ]
  }
 ]
}