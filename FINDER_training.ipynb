{
 "cells": [
  {
   "cell_type": "code",
   "execution_count": 1,
   "metadata": {},
   "outputs": [],
   "source": [
    "%load_ext autoreload\n",
    "%autoreload 2"
   ]
  },
  {
   "cell_type": "code",
   "execution_count": 3,
   "metadata": {},
   "outputs": [],
   "source": [
    "import warnings\n",
    "warnings.filterwarnings('ignore',category=FutureWarning)\n",
    "import os\n",
    "os.environ[\"TF_CPP_MIN_LOG_LEVEL\"] = \"2\"\n",
    "\n",
    "import sys\n",
    "sys.path.insert(1, 'model/')\n",
    "import numpy as np\n",
    "import tqdm\n",
    "from shutil import copy\n",
    "\n",
    "from model.FINDER_API import FINDER_API\n",
    "from py_utils.FINDER_train_utils import *"
   ]
  },
  {
   "cell_type": "markdown",
   "metadata": {},
   "source": [
    "# Start FINDER api and copy config file"
   ]
  },
  {
   "cell_type": "code",
   "execution_count": 5,
   "metadata": {},
   "outputs": [
    {
     "name": "stdout",
     "output_type": "stream",
     "text": [
      "Error when loading key 'sample_steps' from external config file!\n",
      "Using default value 64 instead!\n",
      "Gpu available: True\n",
      "Built with cuda: True\n",
      "DQN params ['train_DQN/encoder/Variable:0', 'train_DQN/encoder/Variable_1:0', 'train_DQN/encoder/Variable_2:0', 'train_DQN/encoder/Variable_3:0', 'train_DQN/encoder/Variable_4:0', 'train_DQN/encoder/Variable_5:0', 'train_DQN/encoder/Variable_6:0', 'train_DQN/encoder/Variable_7:0', 'train_DQN/encoder/Variable_8:0', 'train_DQN/encoder/Variable_9:0', 'train_DQN/encoder/Variable_10:0', 'train_DQN/encoder/Variable_11:0', 'train_DQN/encoder/Variable_12:0', 'train_DQN/encoder/Variable_13:0', 'train_DQN/encoder/Variable_14:0', 'train_DQN/encoder/Variable_15:0', 'train_DQN/encoder/Variable_16:0', 'train_DQN/encoder/layer_normalization/gamma:0', 'train_DQN/encoder/layer_normalization/beta:0', 'train_DQN/encoder/layer_normalization_1/gamma:0', 'train_DQN/encoder/layer_normalization_1/beta:0', 'train_DQN/encoder/layer_normalization_2/gamma:0', 'train_DQN/encoder/layer_normalization_2/beta:0', 'train_DQN/encoder/layer_normalization_3/gamma:0', 'train_DQN/encoder/layer_normalization_3/beta:0', 'train_DQN/encoder/layer_normalization_4/gamma:0', 'train_DQN/encoder/layer_normalization_4/beta:0', 'train_DQN/encoder/layer_normalization_5/gamma:0', 'train_DQN/encoder/layer_normalization_5/beta:0', 'train_DQN/state_encoder/mha_state_encoder/multi_head_attention/dense/kernel:0', 'train_DQN/state_encoder/mha_state_encoder/multi_head_attention/dense_1/kernel:0', 'train_DQN/state_encoder/mha_state_encoder/multi_head_attention/dense_2/kernel:0', 'train_DQN/state_encoder/mha_state_encoder/multi_head_attention/dense_3/kernel:0', 'train_DQN/decoder/Variable:0', 'train_DQN/decoder/Variable_1:0']\n",
      "Target DQN params ['target_DQN/Variable:0', 'target_DQN/Variable_1:0', 'target_DQN/Variable_2:0', 'target_DQN/Variable_3:0', 'target_DQN/Variable_4:0', 'target_DQN/Variable_5:0', 'target_DQN/Variable_6:0', 'target_DQN/Variable_7:0', 'target_DQN/Variable_8:0', 'target_DQN/Variable_9:0', 'target_DQN/Variable_10:0', 'target_DQN/Variable_11:0', 'target_DQN/Variable_12:0', 'target_DQN/Variable_13:0', 'target_DQN/Variable_14:0', 'target_DQN/Variable_15:0', 'target_DQN/Variable_16:0', 'target_DQN/layer_normalization_6/gamma:0', 'target_DQN/layer_normalization_6/beta:0', 'target_DQN/layer_normalization_7/gamma:0', 'target_DQN/layer_normalization_7/beta:0', 'target_DQN/layer_normalization_8/gamma:0', 'target_DQN/layer_normalization_8/beta:0', 'target_DQN/layer_normalization_9/gamma:0', 'target_DQN/layer_normalization_9/beta:0', 'target_DQN/layer_normalization_10/gamma:0', 'target_DQN/layer_normalization_10/beta:0', 'target_DQN/layer_normalization_11/gamma:0', 'target_DQN/layer_normalization_11/beta:0', 'target_DQN/mha_state_encoder_1/multi_head_attention_1/dense_4/kernel:0', 'target_DQN/mha_state_encoder_1/multi_head_attention_1/dense_5/kernel:0', 'target_DQN/mha_state_encoder_1/multi_head_attention_1/dense_6/kernel:0', 'target_DQN/mha_state_encoder_1/multi_head_attention_1/dense_7/kernel:0', 'target_DQN/Variable_17:0', 'target_DQN/Variable_18:0']\n"
     ]
    }
   ],
   "source": [
    "train_configs_path = '../configs'\n",
    "train_config_file = 'train_config.txt'\n",
    "train_config_file_path = f'{train_configs_path}/{train_config_file}'\n",
    "api = FINDER_API(train_config_file_path)"
   ]
  },
  {
   "cell_type": "code",
   "execution_count": 4,
   "metadata": {},
   "outputs": [
    {
     "name": "stdout",
     "output_type": "stream",
     "text": [
      "{'help_func': 0, 'reward_normalization': 'max', 'reward_sign': -1, 'fix_start_node': 0, 'net_type': 'AGNN', 'max_bp_iter': 3, 'aggregatorID': 1, 'node_init_dim': 6, 'edge_init_dim': 4, 'state_init_dim': 1, 'node_embed_dim': 64, 'edge_embed_dim': 64, 'embeddingMethod': 3, 'ignore_covered_edges': 0, 'selected_nodes_inclusion': 1, 'focus_start_end_node': 1, 'state_representation': 2, 'IsHuberloss': 0, 'BATCH_SIZE': 64, 'initialization_stddev': 0.01, 'MAX_ITERATION': 150000, 'LEARNING_RATE': 0.001, 'Alpha': 0.001, 'save_interval': 300, 'num_env': 1, 'dropout_rate': 0.0, 'g_type': 'tsp_2d', 'NUM_MIN': 20, 'NUM_MAX': 20, 'NN_ratio': 1.0, 'n_generator': 1000, 'train_path': 'data/train_sets/synthetic_n_20_50000', 'train_scale_fac': 1e-06, 'decoder': 1, 'REG_HIDDEN': 32, 'search_strategy': 'greedy', 'beam_width': 64, 'IsDoubleDQN': 0, 'N_STEP': 5, 'GAMMA': 1.0, 'UPDATE_TIME': 1000, 'eps_start': 1.0, 'eps_end': 0.05, 'eps_step': 10000.0, 'MEMORY_SIZE': 150000, 'one_step_encoding': 0, 'use_edge_probs': 1, 'valid_path': 'data/valid_sets/synthetic_nrange_20_20_100', 'valid_scale_fac': 1e-06, 'n_valid': 100, 'IsPrioritizedSampling': 0, 'epsilon': 1e-07, 'alpha': 0.6, 'beta': 0.4, 'beta_increment_per_sampling': 0.001, 'TD_err_upper': 1.0}\n"
     ]
    },
    {
     "name": "stderr",
     "output_type": "stream",
     "text": [
      "100%|██████████| 100/100 [00:00<00:00, 169.68it/s]\n"
     ]
    },
    {
     "name": "stdout",
     "output_type": "stream",
     "text": [
      "\n",
      "Sucessfully loaded 100 validation graphs!\n",
      "Loading new training graphs...\n"
     ]
    },
    {
     "name": "stderr",
     "output_type": "stream",
     "text": [
      "100%|██████████| 1000/1000 [00:05<00:00, 169.38it/s]\n"
     ]
    },
    {
     "name": "stdout",
     "output_type": "stream",
     "text": [
      "synthetic_n_20_50000_heatmaps_0-1000.npy\n",
      "(1000, 20, 20)\n"
     ]
    },
    {
     "ename": "TypeError",
     "evalue": "'Operation' object is not callable",
     "output_type": "error",
     "traceback": [
      "\u001b[0;31m---------------------------------------------------------------------------\u001b[0m",
      "\u001b[0;31mTypeError\u001b[0m                                 Traceback (most recent call last)",
      "\u001b[0;32m/tmp/ipykernel_18409/808820932.py\u001b[0m in \u001b[0;36m<module>\u001b[0;34m\u001b[0m\n\u001b[1;32m      1\u001b[0m \u001b[0;31m# %%capture\u001b[0m\u001b[0;34m\u001b[0m\u001b[0;34m\u001b[0m\u001b[0;34m\u001b[0m\u001b[0m\n\u001b[0;32m----> 2\u001b[0;31m \u001b[0mapi\u001b[0m\u001b[0;34m.\u001b[0m\u001b[0mtrain\u001b[0m\u001b[0;34m(\u001b[0m\u001b[0;34m)\u001b[0m\u001b[0;34m\u001b[0m\u001b[0;34m\u001b[0m\u001b[0m\n\u001b[0m\u001b[1;32m      3\u001b[0m \u001b[0mapi\u001b[0m\u001b[0;34m.\u001b[0m\u001b[0msave_train_results\u001b[0m\u001b[0;34m(\u001b[0m\u001b[0mmodel_name\u001b[0m\u001b[0;34m=\u001b[0m\u001b[0;34m'AGNN_no_help_only_start_end+edge_prob'\u001b[0m\u001b[0;34m)\u001b[0m\u001b[0;34m\u001b[0m\u001b[0;34m\u001b[0m\u001b[0m\n",
      "\u001b[0;32m/home/FINDER-TSP/FINDER_API.pyx\u001b[0m in \u001b[0;36mFINDER_API.FINDER_API.train\u001b[0;34m()\u001b[0m\n\u001b[1;32m    169\u001b[0m         \u001b[0;32mif\u001b[0m \u001b[0msave_architecture\u001b[0m\u001b[0;34m:\u001b[0m\u001b[0;34m\u001b[0m\u001b[0;34m\u001b[0m\u001b[0m\n\u001b[1;32m    170\u001b[0m             \u001b[0mself\u001b[0m\u001b[0;34m.\u001b[0m\u001b[0msave_architecture\u001b[0m\u001b[0;34m(\u001b[0m\u001b[0;34m)\u001b[0m\u001b[0;34m\u001b[0m\u001b[0;34m\u001b[0m\u001b[0m\n\u001b[0;32m--> 171\u001b[0;31m         \u001b[0mself\u001b[0m\u001b[0;34m.\u001b[0m\u001b[0mDQN\u001b[0m\u001b[0;34m.\u001b[0m\u001b[0mTrain\u001b[0m\u001b[0;34m(\u001b[0m\u001b[0;34m)\u001b[0m\u001b[0;34m\u001b[0m\u001b[0;34m\u001b[0m\u001b[0m\n\u001b[0m\u001b[1;32m    172\u001b[0m \u001b[0;34m\u001b[0m\u001b[0m\n\u001b[1;32m    173\u001b[0m     \u001b[0;32mdef\u001b[0m \u001b[0msave_cur_config\u001b[0m\u001b[0;34m(\u001b[0m\u001b[0mself\u001b[0m\u001b[0;34m)\u001b[0m\u001b[0;34m:\u001b[0m\u001b[0;34m\u001b[0m\u001b[0;34m\u001b[0m\u001b[0m\n",
      "\u001b[0;32m/home/FINDER-TSP/FINDER.pyx\u001b[0m in \u001b[0;36mFINDER.FINDER.Train\u001b[0;34m()\u001b[0m\n\u001b[1;32m    396\u001b[0m \u001b[0;34m\u001b[0m\u001b[0m\n\u001b[1;32m    397\u001b[0m         \u001b[0mself\u001b[0m\u001b[0;34m.\u001b[0m\u001b[0mTakeSnapShot\u001b[0m\u001b[0;34m(\u001b[0m\u001b[0;34m)\u001b[0m\u001b[0;34m\u001b[0m\u001b[0;34m\u001b[0m\u001b[0m\n\u001b[0;32m--> 398\u001b[0;31m         \u001b[0mself\u001b[0m\u001b[0;34m.\u001b[0m\u001b[0mUpdateTestDQN\u001b[0m\u001b[0;34m(\u001b[0m\u001b[0;34m)\u001b[0m\u001b[0;34m\u001b[0m\u001b[0;34m\u001b[0m\u001b[0m\n\u001b[0m\u001b[1;32m    399\u001b[0m \u001b[0;34m\u001b[0m\u001b[0m\n\u001b[1;32m    400\u001b[0m         \u001b[0;31m#save_dir = './models/%s'%self.cfg['g_type']\u001b[0m\u001b[0;34m\u001b[0m\u001b[0;34m\u001b[0m\u001b[0;34m\u001b[0m\u001b[0m\n",
      "\u001b[0;31mTypeError\u001b[0m: 'Operation' object is not callable"
     ]
    }
   ],
   "source": [
    "# %%capture\n",
    "api.train()\n",
    "api.save_train_results(model_name='model', num_best=100, save_all_ckpts=False)"
   ]
  },
  {
   "cell_type": "code",
   "execution_count": 4,
   "metadata": {},
   "outputs": [
    {
     "name": "stdout",
     "output_type": "stream",
     "text": [
      "Saving validation file...\n",
      "Saving Loss file...\n",
      "Saving all checkpoint files...\n",
      "Saving best checkpoint file seperately...\n",
      "Saving config file...\n",
      "Saving FINDER.pyx, PrepareBatchGraph.pyx, PrepareBatchGraph.pxd, PrepareBatchGraph.h, PrepareBatchGraph.cpp...\n"
     ]
    }
   ],
   "source": [
    "api.save_train_results(model_name='model', num_best=100, save_all_ckpts=False)"
   ]
  }
 ],
 "metadata": {
  "interpreter": {
   "hash": "6361d337a79430850a9bff48e7455f29af0d81b3faf325fa31e0f3474c613882"
  },
  "kernelspec": {
   "display_name": "Python 3.7.11 64-bit ('FINDER_env': conda)",
   "name": "python3"
  },
  "language_info": {
   "codemirror_mode": {
    "name": "ipython",
    "version": 3
   },
   "file_extension": ".py",
   "mimetype": "text/x-python",
   "name": "python",
   "nbconvert_exporter": "python",
   "pygments_lexer": "ipython3",
   "version": "3.7.11"
  },
  "orig_nbformat": 4
 },
 "nbformat": 4,
 "nbformat_minor": 2
}
