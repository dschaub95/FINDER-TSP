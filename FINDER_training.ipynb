{
 "cells": [
  {
   "cell_type": "code",
   "execution_count": 1,
   "source": [
    "%load_ext autoreload\n",
    "%autoreload 2"
   ],
   "outputs": [],
   "metadata": {}
  },
  {
   "cell_type": "code",
   "execution_count": 2,
   "source": [
    "import warnings\n",
    "warnings.filterwarnings('ignore',category=FutureWarning)\n",
    "import os\n",
    "os.environ[\"TF_CPP_MIN_LOG_LEVEL\"] = \"2\"\n",
    "\n",
    "from FINDER_API import FINDER_API\n",
    "from FINDER_train_utils import *\n",
    "import tqdm\n",
    "import numpy as np\n",
    "import pandas as pd\n",
    "import tsplib95\n",
    "import networkx as nx\n",
    "import re"
   ],
   "outputs": [],
   "metadata": {}
  },
  {
   "cell_type": "markdown",
   "source": [
    "# Start FINDER api and copy config file"
   ],
   "metadata": {}
  },
  {
   "cell_type": "code",
   "execution_count": 3,
   "source": [
    "init_config_path = 'train_configs/train_config.txt'\n",
    "cur_config_path = 'models/tsp_2d/current_config.txt'\n",
    "copy(init_config_path, cur_config_path)\n",
    "api = FINDER_API(init_config_path)"
   ],
   "outputs": [],
   "metadata": {}
  },
  {
   "cell_type": "code",
   "execution_count": null,
   "source": [
    "api.train()"
   ],
   "outputs": [],
   "metadata": {}
  },
  {
   "cell_type": "code",
   "execution_count": null,
   "source": [],
   "outputs": [],
   "metadata": {}
  }
 ],
 "metadata": {
  "orig_nbformat": 4,
  "language_info": {
   "name": "python",
   "version": "3.7.10",
   "mimetype": "text/x-python",
   "codemirror_mode": {
    "name": "ipython",
    "version": 3
   },
   "pygments_lexer": "ipython3",
   "nbconvert_exporter": "python",
   "file_extension": ".py"
  },
  "kernelspec": {
   "name": "python3",
   "display_name": "Python 3.7.10 64-bit ('findervenv': conda)"
  },
  "interpreter": {
   "hash": "cac74b763dd6365b660360e42fb86b007d1646e45a2a765c06460ea0e8dba80b"
  }
 },
 "nbformat": 4,
 "nbformat_minor": 2
}