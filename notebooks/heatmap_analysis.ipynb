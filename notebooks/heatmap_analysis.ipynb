{
 "cells": [
  {
   "cell_type": "code",
   "execution_count": 1,
   "metadata": {},
   "outputs": [],
   "source": [
    "%load_ext autoreload\n",
    "%autoreload 2"
   ]
  },
  {
   "cell_type": "code",
   "execution_count": 2,
   "metadata": {},
   "outputs": [],
   "source": [
    "import warnings\n",
    "warnings.filterwarnings('ignore',category=FutureWarning)\n",
    "import os\n",
    "import sys\n",
    "sys.path.insert(1, '../')\n",
    "os.environ[\"TF_CPP_MIN_LOG_LEVEL\"] = \"2\"\n",
    "from attgcn_preprocessor.attgcn_api import ATTGCN_API\n",
    "import numpy as np\n",
    "import matplotlib.pyplot as plt\n",
    "from py_utils.TSP_loader import TSP_loader\n",
    "from py_utils.TSP_utils import TSP_plotter"
   ]
  },
  {
   "cell_type": "code",
   "execution_count": 3,
   "metadata": {},
   "outputs": [],
   "source": [
    "import re\n",
    "# load heatmaps and graphs\n",
    "# combine both into graphic\n",
    "# add tsp plotter function\n",
    "def load_heatmaps(path, start_index, end_index):\n",
    "    atoi = lambda text : int(text) if text.isdigit() else text\n",
    "    natural_keys = lambda text : [atoi(c) for c in re.split('(\\d+)', text)]\n",
    "    try:\n",
    "        fnames = [f for f in os.listdir(path) if os.path.isfile(f'{path}/{f}')]\n",
    "        fnames.sort(key=natural_keys)\n",
    "    except:\n",
    "        print('\\nBad heatmap directory!')\n",
    "        return None\n",
    "    if len(fnames) == 1:\n",
    "        return np.load(f'{path}/{fnames[0]}')\n",
    "    heat_maps = None\n",
    "    for k, fname in enumerate(fnames):\n",
    "        maps_start_index = int(fname.split('.')[0].split('-')[0].split('_')[-1])\n",
    "        maps_end_index = int(fname.split('.')[0].split('-')[-1])\n",
    "        index_diff = maps_end_index - maps_start_index\n",
    "        if maps_end_index - 1 < start_index :\n",
    "            continue\n",
    "        if maps_start_index > end_index:\n",
    "            continue\n",
    "        cur_start_index = start_index - maps_start_index\n",
    "        cur_end_index = np.minimum(index_diff, end_index - maps_start_index)\n",
    "\n",
    "        if heat_maps is not None:\n",
    "            heat_maps = np.concatenate([heat_maps, np.load(f'{path}/{fname}')[cur_start_index:cur_end_index]], axis=0)\n",
    "        else:\n",
    "            heat_maps = np.load(f'{path}/{fname}')[cur_start_index:cur_end_index]\n",
    "    return heat_maps"
   ]
  },
  {
   "cell_type": "code",
   "execution_count": 4,
   "metadata": {},
   "outputs": [],
   "source": [
    "def load_tsp_solution(sol_filepath):\n",
    "    solutions = []\n",
    "    for line in open(sol_filepath):\n",
    "        solution = line.split(':')[-1].strip(' ').strip('\\n').strip('[]')\n",
    "        solution.replace(' ', '')\n",
    "        solution = [int(node) for node in solution.split(',')]\n",
    "        solutions.append(solution)\n",
    "    return solutions"
   ]
  },
  {
   "cell_type": "code",
   "execution_count": 5,
   "metadata": {},
   "outputs": [],
   "source": [
    "def prepare_heatmap(raw_heatmap):\n",
    "    heat_map = np.maximum(raw_heatmap, raw_heatmap.transpose())\n",
    "    np.fill_diagonal(heat_map, 0)\n",
    "    heat_map[heat_map < 10**(-1.5)] = 0.0\n",
    "    return heat_map"
   ]
  },
  {
   "cell_type": "code",
   "execution_count": 6,
   "metadata": {},
   "outputs": [],
   "source": [
    "def get_heatmap_statistics(heatmap, solution):\n",
    "    heatmap = prepare_heatmap(heatmap)\n",
    "    probable_edgelist = np.transpose(np.where(np.triu(heatmap) > 0))\n",
    "    # probable_edgelist = np.transpose(np.array(np.where(np.tril(heatmap) > 10**(-10))))\n",
    "    probable_edgelist = [list(edge) for edge in probable_edgelist]\n",
    "    probable_edge_score = np.sum(heatmap) / 2\n",
    "    tour_edges = list(zip(solution, solution[1:]))\n",
    "    tour_edges.append((solution[-1], solution[0]))\n",
    "    present_edges = 0\n",
    "    tour_edge_score = 0\n",
    "    for edge in tour_edges:\n",
    "        if list(edge) in probable_edgelist or list(edge)[::-1] in probable_edgelist:\n",
    "            present_edges += 1\n",
    "            tour_edge_score += heatmap[edge[0],edge[1]]\n",
    "        else:\n",
    "            pass\n",
    "    probable_edge_ratio = present_edges/len(tour_edges)\n",
    "    num_probable_edges = len(probable_edgelist)\n",
    "    return probable_edge_ratio, num_probable_edges, tour_edge_score, probable_edge_score"
   ]
  },
  {
   "cell_type": "code",
   "execution_count": 7,
   "metadata": {},
   "outputs": [],
   "source": [
    "NUM_NODES = 10\n",
    "n_graphs = 200000\n",
    "path = f'../data/train_sets'\n",
    "folder = f'synthetic_n_{NUM_NODES}_{n_graphs}'\n",
    "path = f'{path}/{folder}'\n",
    "heatmap_path = f'{path}/heatmaps'\n",
    "# folder = f'synthetic_nrange_{NUM_NODES}_{NUM_NODES}_{n_graphs}'\n",
    "folder = f'synthetic_n_{NUM_NODES}_{n_graphs}'\n",
    "start_index = 0\n",
    "end_index = 50000"
   ]
  },
  {
   "cell_type": "code",
   "execution_count": null,
   "metadata": {},
   "outputs": [],
   "source": [
    "path = 'data/train_sets/synthetic_n_20_50000'\n",
    "heatmap_path = f'{path}/heatmaps'\n",
    "start_index = 0\n",
    "end_index = 10000"
   ]
  },
  {
   "cell_type": "code",
   "execution_count": null,
   "metadata": {},
   "outputs": [],
   "source": [
    "path = 'data/valid_sets/synthetic_n_20_1000'\n",
    "heatmap_path = f'{path}/heatmaps'\n",
    "start_index = 0\n",
    "end_index = 10000"
   ]
  },
  {
   "cell_type": "code",
   "execution_count": null,
   "metadata": {},
   "outputs": [],
   "source": [
    "path = 'data/test_sets/synthetic_n_50_1000'\n",
    "heatmap_path = f'{path}/heatmaps'\n",
    "start_index = 0\n",
    "end_index = 10000"
   ]
  },
  {
   "cell_type": "code",
   "execution_count": 8,
   "metadata": {},
   "outputs": [
    {
     "name": "stderr",
     "output_type": "stream",
     "text": [
      "100%|██████████| 50000/50000 [01:14<00:00, 669.74it/s]\n"
     ]
    }
   ],
   "source": [
    "heat_maps = load_heatmaps(heatmap_path, start_index, end_index)\n",
    "tsp_loader = TSP_loader()\n",
    "g_list = tsp_loader.load_multi_tsp_as_nx(data_dir=f'{path}', scale_factor=0.000001, start_index=start_index, end_index=end_index)"
   ]
  },
  {
   "cell_type": "code",
   "execution_count": 9,
   "metadata": {},
   "outputs": [],
   "source": [
    "all_solutions = load_tsp_solution(sol_filepath=f'{path}/solutions.txt')\n",
    "len(all_solutions)\n",
    "end_index = np.minimum(len(all_solutions), end_index)"
   ]
  },
  {
   "cell_type": "code",
   "execution_count": 39,
   "metadata": {},
   "outputs": [],
   "source": [
    "num_probable_edges = []\n",
    "edge_presence_rates = []\n",
    "num_probable_edges_ = []\n",
    "for i in range(end_index):\n",
    "    heat_map = prepare_heatmap(heat_maps[i])\n",
    "    probable_edgelist = np.transpose(np.where(np.triu(heat_map) > 0))\n",
    "    # probable_edgelist = np.transpose(np.array(np.where(np.tril(heat_map) > 10**(-10))))\n",
    "    probable_edgelist = [list(edge) for edge in probable_edgelist]\n",
    "    solution = all_solutions[i]\n",
    "    tour_edges = list(zip(solution, solution[1:]))\n",
    "    tour_edges.append((solution[-1], solution[0]))\n",
    "    present_edges = 0\n",
    "    for edge in tour_edges:\n",
    "        if list(edge) in probable_edgelist:\n",
    "            present_edges += 1\n",
    "        elif list(edge)[::-1] in probable_edgelist:\n",
    "            present_edges += 1\n",
    "        else:\n",
    "            # print(edge)\n",
    "            # print(probable_edgelist)\n",
    "            pass\n",
    "    edge_presence_rates.append(present_edges/len(tour_edges))\n",
    "    num_probable_edges.append(len(probable_edgelist))\n",
    "    num_probable_edges_.append(np.count_nonzero(heat_map)/2)\n"
   ]
  },
  {
   "cell_type": "code",
   "execution_count": 40,
   "metadata": {},
   "outputs": [
    {
     "name": "stdout",
     "output_type": "stream",
     "text": [
      "Percentage of contained optimal edges: 1.0\n",
      "Mean number of probable edges per graph: 15.697\n",
      "Mean number of probable edges per graph: 15.697\n",
      "Max number of probable edges: 28\n",
      "Min number of probable edges 10\n"
     ]
    }
   ],
   "source": [
    "print(\"Percentage of contained optimal edges:\", np.mean(edge_presence_rates))\n",
    "print(\"Mean number of probable edges per graph:\", np.mean(num_probable_edges))\n",
    "print(\"Mean number of probable edges per graph:\", np.mean(num_probable_edges_))\n",
    "print(\"Max number of probable edges:\", np.max(num_probable_edges))\n",
    "print(\"Min number of probable edges\", np.min(num_probable_edges))"
   ]
  },
  {
   "cell_type": "code",
   "execution_count": 48,
   "metadata": {},
   "outputs": [
    {
     "name": "stdout",
     "output_type": "stream",
     "text": [
      "[0, 8, 5, 6, 4, 3, 7, 2, 9, 1]\n"
     ]
    },
    {
     "data": {
      "image/png": "[encoded data removed]",
      "text/plain": [
       "<Figure size 360x288 with 1 Axes>"
      ]
     },
     "metadata": {
      "needs_background": "light"
     },
     "output_type": "display_data"
    }
   ],
   "source": [
    "index = 6\n",
    "heat_map = prepare_heatmap(heat_maps[index])\n",
    "solution = all_solutions[index]\n",
    "print(solution)\n",
    "tsp_plotter = TSP_plotter()\n",
    "tsp_plotter.plot_nx_graph(g_list[index], solution=solution, edge_probs=heat_map, save_path='../plots/edge_probability_10_nodes.png')"
   ]
  }
 ],
 "metadata": {
  "interpreter": {
   "hash": "9fa4684db301e6a45a9b330aecb9cd55659ac546964c295bab282a91a7b6d8bc"
  },
  "kernelspec": {
   "display_name": "Python 3.7.11 64-bit ('finderenv_new': conda)",
   "name": "python3"
  },
  "language_info": {
   "codemirror_mode": {
    "name": "ipython",
    "version": 3
   },
   "file_extension": ".py",
   "mimetype": "text/x-python",
   "name": "python",
   "nbconvert_exporter": "python",
   "pygments_lexer": "ipython3",
   "version": "3.7.11"
  },
  "orig_nbformat": 4
 },
 "nbformat": 4,
 "nbformat_minor": 2
}
