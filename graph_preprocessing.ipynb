{
 "cells": [
  {
   "cell_type": "code",
   "execution_count": 1,
   "source": [
    "%load_ext autoreload\n",
    "%autoreload 2"
   ],
   "outputs": [],
   "metadata": {}
  },
  {
   "cell_type": "code",
   "execution_count": 2,
   "source": [
    "import warnings\n",
    "warnings.filterwarnings('ignore',category=FutureWarning)\n",
    "import os\n",
    "os.environ[\"TF_CPP_MIN_LOG_LEVEL\"] = \"2\"\n",
    "from attgcn_api import ATTGCN_API\n",
    "import numpy as np\n",
    "from py_utils.TSP_loader import TSP_loader"
   ],
   "outputs": [],
   "metadata": {}
  },
  {
   "cell_type": "code",
   "execution_count": 3,
   "source": [
    "def create_dir(save_dir):\n",
    "    if not os.path.exists(save_dir):\n",
    "        os.makedirs(save_dir)"
   ],
   "outputs": [],
   "metadata": {}
  },
  {
   "cell_type": "code",
   "execution_count": 4,
   "source": [
    "\n",
    "gcn_api = ATTGCN_API()\n",
    "gcn_api.init_net()\n",
    "gcn_api.load_ckpt()"
   ],
   "outputs": [
    {
     "output_type": "stream",
     "name": "stdout",
     "text": [
      "Using CUDA!\n"
     ]
    }
   ],
   "metadata": {}
  },
  {
   "cell_type": "code",
   "execution_count": 5,
   "source": [
    "NUM_NODES = 20\n",
    "n_graphs = 50000\n",
    "path = f'./data/train_sets'\n",
    "folder = f'synthetic_n_{NUM_NODES}_{n_graphs}'"
   ],
   "outputs": [],
   "metadata": {}
  },
  {
   "cell_type": "code",
   "execution_count": 6,
   "source": [
    "tsp_loader = TSP_loader()"
   ],
   "outputs": [],
   "metadata": {}
  },
  {
   "cell_type": "code",
   "execution_count": 7,
   "source": [
    "for i in range(50):\n",
    "    g_list = tsp_loader.load_multi_tsp_as_nx(data_dir=f'{path}/{folder}', scale_factor=10**(-6), start_index=i*1000, end_index=(i+1)*1000)\n",
    "    gcn_api.load_nx_test_set(graph_list=g_list, num_nodes=20)\n",
    "    result = gcn_api.run_test(batch_size=250)\n",
    "    save_path = f'{path}/{folder}/heatmaps'\n",
    "    create_dir(save_path)\n",
    "    t = i * 1000\n",
    "    file_name = f'{folder}_heatmaps_{t}-{t+1000}.npy'\n",
    "    np.save(file=f'{save_path}/{file_name}', arr=np.array(result))"
   ],
   "outputs": [
    {
     "output_type": "stream",
     "name": "stderr",
     "text": [
      "100%|██████████| 4/4 [00:05<00:00,  1.38s/it]\n",
      "100%|██████████| 4/4 [00:05<00:00,  1.35s/it]\n",
      "100%|██████████| 4/4 [00:05<00:00,  1.35s/it]\n",
      "100%|██████████| 4/4 [00:05<00:00,  1.34s/it]\n",
      "100%|██████████| 4/4 [00:05<00:00,  1.35s/it]\n",
      "100%|██████████| 4/4 [00:05<00:00,  1.34s/it]\n",
      "100%|██████████| 4/4 [00:05<00:00,  1.35s/it]\n",
      "100%|██████████| 4/4 [00:05<00:00,  1.35s/it]\n",
      "100%|██████████| 4/4 [00:05<00:00,  1.34s/it]\n",
      "100%|██████████| 4/4 [00:05<00:00,  1.35s/it]\n",
      " 75%|███████▌  | 3/4 [00:04<00:01,  1.34s/it]"
     ]
    }
   ],
   "metadata": {}
  }
 ],
 "metadata": {
  "orig_nbformat": 4,
  "language_info": {
   "name": "python",
   "version": "3.7.11",
   "mimetype": "text/x-python",
   "codemirror_mode": {
    "name": "ipython",
    "version": 3
   },
   "pygments_lexer": "ipython3",
   "nbconvert_exporter": "python",
   "file_extension": ".py"
  },
  "kernelspec": {
   "name": "python3",
   "display_name": "Python 3.7.11 64-bit ('finderenv_new': conda)"
  },
  "interpreter": {
   "hash": "a8226670a5d5d13bf66311bd4dce118bc92481204c813e7b6504131ecbdc7521"
  }
 },
 "nbformat": 4,
 "nbformat_minor": 2
}