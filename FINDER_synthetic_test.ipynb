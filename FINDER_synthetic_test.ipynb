{
 "cells": [
  {
   "cell_type": "code",
   "execution_count": 1,
   "metadata": {},
   "outputs": [],
   "source": [
    "%load_ext autoreload\n",
    "%autoreload 2"
   ]
  },
  {
   "cell_type": "code",
   "execution_count": 3,
   "metadata": {},
   "outputs": [],
   "source": [
    "import warnings\n",
    "warnings.filterwarnings('ignore',category=FutureWarning)\n",
    "import os\n",
    "import sys\n",
    "sys.path.insert(1, 'model/')\n",
    "os.environ[\"TF_CPP_MIN_LOG_LEVEL\"] = \"2\"\n",
    "from model.FINDER_API import FINDER_API\n",
    "from py_utils.FINDER_test_utils import *\n",
    "import os\n",
    "import tqdm\n",
    "import numpy as np\n",
    "import wandb\n",
    "os.environ[\"WANDB_MODE\"] = 'disabled'\n"
   ]
  },
  {
   "cell_type": "markdown",
   "metadata": {},
   "source": [
    "# Specify and load model"
   ]
  },
  {
   "cell_type": "code",
   "execution_count": 4,
   "metadata": {
    "tags": []
   },
   "outputs": [
    {
     "name": "stdout",
     "output_type": "stream",
     "text": [
      "Error when loading key 'sample_steps' from external config file!\n",
      "Using default value 64 instead!\n"
     ]
    },
    {
     "name": "stderr",
     "output_type": "stream",
     "text": [
      "Failed to detect the name of this notebook, you can set it manually with the WANDB_NOTEBOOK_NAME environment variable to enable code saving.\n"
     ]
    },
    {
     "name": "stdout",
     "output_type": "stream",
     "text": [
      "Gpu available: True\n",
      "Built with cuda: True\n"
     ]
    },
    {
     "name": "stderr",
     "output_type": "stream",
     "text": [
      "\u001b[34m\u001b[1mwandb\u001b[0m: Currently logged in as: \u001b[33mdschaub\u001b[0m (use `wandb login --relogin` to force relogin)\n"
     ]
    },
    {
     "data": {
      "text/html": [
       "\n",
       "                    Syncing run <strong><a href=\"https://wandb.ai/dschaub/FINDER-TSP/runs/282kf9b3\" target=\"_blank\">ruby-plant-21</a></strong> to <a href=\"https://wandb.ai/dschaub/FINDER-TSP\" target=\"_blank\">Weights & Biases</a> (<a href=\"https://docs.wandb.com/integrations/jupyter.html\" target=\"_blank\">docs</a>).<br/>\n",
       "\n",
       "                "
      ],
      "text/plain": [
       "<IPython.core.display.HTML object>"
      ]
     },
     "metadata": {},
     "output_type": "display_data"
    },
    {
     "name": "stdout",
     "output_type": "stream",
     "text": [
      "Current config: {'help_func': 0, 'reward_normalization': 'max', 'reward_sign': -1, 'fix_start_node': 0, 'net_type': 'AGNN', 'max_bp_iter': 3, 'aggregatorID': 1, 'node_init_dim': 6, 'edge_init_dim': 4, 'state_init_dim': 1, 'node_embed_dim': 64, 'edge_embed_dim': 64, 'state_embed_dim': 128, 'embeddingMethod': 3, 'ignore_covered_edges': 1, 'selected_nodes_inclusion': 1, 'focus_start_end_node': 1, 'state_representation': 1, 'IsHuberloss': 0, 'BATCH_SIZE': 64, 'initialization_stddev': 0.01, 'MAX_ITERATION': 100000, 'LEARNING_RATE': 0.001, 'Alpha': 0.001, 'save_interval': 300, 'num_env': 1, 'dropout_rate': 0.0, 'g_type': 'tsp_2d', 'NUM_MIN': 20, 'NUM_MAX': 20, 'NN_ratio': 1.0, 'n_generator': 1000, 'train_path': 'data/train_sets/synthetic_n_20_200000', 'train_scale_fac': 1e-06, 'decoder_type': 0, 'REG_HIDDEN': 32, 'search_strategy': 'greedy', 'beam_width': 64, 'sample_steps': 64, 'test_batch_size': 512, 'IsDoubleDQN': 0, 'N_STEP': 5, 'GAMMA': 1.0, 'UPDATE_TIME': 1000, 'eps_start': 1.0, 'eps_end': 0.05, 'eps_step': 10000.0, 'MEMORY_SIZE': 150000, 'one_step_encoding': 0, 'use_edge_probs': 1, 'probability_construction': 0, 'valid_path': 'data/valid_sets/synthetic_nrange_20_20_100', 'valid_scale_fac': 1e-06, 'n_valid': 300, 'IsPrioritizedSampling': 0, 'epsilon': 1e-07, 'alpha': 0.6, 'beta': 0.4, 'beta_increment_per_sampling': 0.001, 'TD_err_upper': 1.0}\n",
      "DQN params ['train_DQN/encoder/Variable:0', 'train_DQN/encoder/Variable_1:0', 'train_DQN/encoder/Variable_2:0', 'train_DQN/encoder/Variable_3:0', 'train_DQN/encoder/Variable_4:0', 'train_DQN/encoder/Variable_5:0', 'train_DQN/encoder/Variable_6:0', 'train_DQN/encoder/Variable_7:0', 'train_DQN/encoder/Variable_8:0', 'train_DQN/encoder/Variable_9:0', 'train_DQN/encoder/Variable_10:0', 'train_DQN/encoder/Variable_11:0', 'train_DQN/encoder/Variable_12:0', 'train_DQN/encoder/Variable_13:0', 'train_DQN/encoder/Variable_14:0', 'train_DQN/encoder/Variable_15:0', 'train_DQN/encoder/Variable_16:0', 'train_DQN/encoder/layer_normalization/gamma:0', 'train_DQN/encoder/layer_normalization/beta:0', 'train_DQN/encoder/layer_normalization_1/gamma:0', 'train_DQN/encoder/layer_normalization_1/beta:0', 'train_DQN/encoder/layer_normalization_2/gamma:0', 'train_DQN/encoder/layer_normalization_2/beta:0', 'train_DQN/encoder/layer_normalization_3/gamma:0', 'train_DQN/encoder/layer_normalization_3/beta:0', 'train_DQN/encoder/layer_normalization_4/gamma:0', 'train_DQN/encoder/layer_normalization_4/beta:0', 'train_DQN/encoder/layer_normalization_5/gamma:0', 'train_DQN/encoder/layer_normalization_5/beta:0', 'train_DQN/state_encoder/mha_state_encoder/multi_head_attention/dense/kernel:0', 'train_DQN/state_encoder/mha_state_encoder/multi_head_attention/dense_1/kernel:0', 'train_DQN/state_encoder/mha_state_encoder/multi_head_attention/dense_2/kernel:0', 'train_DQN/state_encoder/mha_state_encoder/multi_head_attention/dense_3/kernel:0', 'train_DQN/decoder/Variable:0', 'train_DQN/decoder/Variable_1:0']\n",
      "Target DQN params ['target_DQN/Variable:0', 'target_DQN/Variable_1:0', 'target_DQN/Variable_2:0', 'target_DQN/Variable_3:0', 'target_DQN/Variable_4:0', 'target_DQN/Variable_5:0', 'target_DQN/Variable_6:0', 'target_DQN/Variable_7:0', 'target_DQN/Variable_8:0', 'target_DQN/Variable_9:0', 'target_DQN/Variable_10:0', 'target_DQN/Variable_11:0', 'target_DQN/Variable_12:0', 'target_DQN/Variable_13:0', 'target_DQN/Variable_14:0', 'target_DQN/Variable_15:0', 'target_DQN/Variable_16:0', 'target_DQN/layer_normalization_6/gamma:0', 'target_DQN/layer_normalization_6/beta:0', 'target_DQN/layer_normalization_7/gamma:0', 'target_DQN/layer_normalization_7/beta:0', 'target_DQN/layer_normalization_8/gamma:0', 'target_DQN/layer_normalization_8/beta:0', 'target_DQN/layer_normalization_9/gamma:0', 'target_DQN/layer_normalization_9/beta:0', 'target_DQN/layer_normalization_10/gamma:0', 'target_DQN/layer_normalization_10/beta:0', 'target_DQN/layer_normalization_11/gamma:0', 'target_DQN/layer_normalization_11/beta:0', 'target_DQN/mha_state_encoder_1/multi_head_attention_1/dense_4/kernel:0', 'target_DQN/mha_state_encoder_1/multi_head_attention_1/dense_5/kernel:0', 'target_DQN/mha_state_encoder_1/multi_head_attention_1/dense_6/kernel:0', 'target_DQN/mha_state_encoder_1/multi_head_attention_1/dense_7/kernel:0', 'target_DQN/Variable_17:0', 'target_DQN/Variable_18:0']\n",
      "test_models/standard_2021-10-18_02:36:38_len_100324/best_checkpoint/nrange_20_20_iter_90300_rank_1.ckpt\n",
      "model sucessfully restored from file\n"
     ]
    }
   ],
   "source": [
    "# model_path =  'best_models/tsp_2d/nrange_15_20_len_1011194/'\n",
    "# model_path =  'best_models/tsp_2d/nrange_15_20_len_1011362/'\n",
    "# model_path =  'best_models/tsp_2d/nrange_15_20_len_1009797/'\n",
    "# model_path = 'best_models/tsp_2d/nrange_15_20_len_1011914/'\n",
    "\n",
    "# insert function which automatically searches for best model with specified name\n",
    "model_name = 'AGNN_default_len_10113392076640768'\n",
    "model_name = 'AGNN_RNN_len_10117276006490983'\n",
    "model_name = 'AGNN_no_helperfunction_len_10488634773857972'\n",
    "model_name = 'AGNN_no_help_only_start_end_+_edge_prob_2021-09-01_08:31:56_len_100233'\n",
    "model_name = 'test_2021-09-16_10:49:03_len_100258'\n",
    "model_name = 'AGNN_no_help_only_start_end_+_edge_prob_+_unfixed_start_2021-09-13_12:10:11_len_100131'\n",
    "model_name = 'model_2021-09-23_15:11:10_len_100987'\n",
    "\n",
    "model_path = f'saved_models/tsp_2d/nrange_20_20/{model_name}'\n",
    "\n",
    "model_name = 'standard_2021-10-18_02:36:38_len_100324'\n",
    "model_path = f'test_models/{model_name}'\n",
    "\n",
    "config_path = f'{model_path}/config.txt'\n",
    "api = FINDER_API(config_path=config_path)\n",
    "\n",
    "# get best checkpoint path\n",
    "best_ckpt_file_path = get_best_ckpt(model_path)\n",
    "print(best_ckpt_file_path)\n",
    "# load checkpoint into Finder\n",
    "api.load_model(ckpt_path=best_ckpt_file_path)"
   ]
  },
  {
   "cell_type": "markdown",
   "metadata": {},
   "source": [
    "# Specify test sets"
   ]
  },
  {
   "cell_type": "code",
   "execution_count": 7,
   "metadata": {},
   "outputs": [],
   "source": [
    "# data_dir = 'test_sets/synthetic_nrange_10_20_1000/'\n",
    "# data_dir = 'test_sets/synthetic_nrange_15_20_1000/'\n",
    "# data_dir = 'test_sets/synthetic_nrange_40_50_1000/'\n",
    "# data_dir = 'valid_sets/synthetic_nrange_10_20_200/'\n",
    "# data_dir = 'valid_sets/synthetic_nrange_15_20_200/'\n",
    "# data_dir = 'data/test_sets/tsp_min-n=15_max-n=20_num-graph=1000_type=random/'\n",
    "# data_dir_0 = 'data/test_sets/tsp_min-n=15_max-n=20_num-graph=1000_type=random/'\n",
    "# data_dir_1 = 'data/test_sets/tsp_min-n=40_max-n=50_num-graph=1000_type=random/'\n",
    "# data_dir_2 = 'data/test_sets/tsp_min-n=50_max-n=100_num-graph=1000_type=random/'\n",
    "# data_dir_3 = 'data/test_sets/tsp_min-n=100_max-n=200_num-graph=1000_type=random/'\n",
    "data_dir_valid = 'data/valid_sets/synthetic_nrange_20_20_100'\n",
    "data_dir_0 = 'data/test_sets/synthetic_n_20_1000'\n",
    "data_dir_1 = 'data/test_sets/synthetic_n_50_1000'\n",
    "test_dirs = [data_dir_0, data_dir_1]"
   ]
  },
  {
   "cell_type": "markdown",
   "metadata": {},
   "source": [
    "# Run tests"
   ]
  },
  {
   "cell_type": "markdown",
   "metadata": {},
   "source": [
    "## Run standard tests"
   ]
  },
  {
   "cell_type": "code",
   "execution_count": 5,
   "metadata": {},
   "outputs": [],
   "source": [
    "search_strategy = 'greedy'"
   ]
  },
  {
   "cell_type": "code",
   "execution_count": 8,
   "metadata": {},
   "outputs": [
    {
     "name": "stdout",
     "output_type": "stream",
     "text": [
      "Loading test graphs...\n"
     ]
    },
    {
     "name": "stderr",
     "output_type": "stream",
     "text": [
      "100%|██████████| 100/100 [00:00<00:00, 156.52it/s]\n",
      "100%|██████████| 20/20 [00:02<00:00,  7.72it/s]\n"
     ]
    },
    {
     "name": "stdout",
     "output_type": "stream",
     "text": [
      "1.0032381307756169\n"
     ]
    }
   ],
   "source": [
    "# sanity check\n",
    "lengths, solutions, sol_times = api.run_test(data_dir_valid, scale_factor=0.000001)\n",
    "approx_ratios, mean_approx_ratio = get_approx_ratios(data_dir_valid, lengths)\n",
    "print(mean_approx_ratio)"
   ]
  },
  {
   "cell_type": "code",
   "execution_count": 9,
   "metadata": {},
   "outputs": [
    {
     "name": "stdout",
     "output_type": "stream",
     "text": [
      "Loading test graphs...\n"
     ]
    },
    {
     "name": "stderr",
     "output_type": "stream",
     "text": [
      "100%|██████████| 1000/1000 [00:06<00:00, 159.61it/s]\n",
      "100%|██████████| 20/20 [00:19<00:00,  1.02it/s]\n"
     ]
    },
    {
     "name": "stdout",
     "output_type": "stream",
     "text": [
      "1.008371726664478\n",
      "Saving approximation ratios...\n"
     ]
    },
    {
     "name": "stderr",
     "output_type": "stream",
     "text": [
      "100%|██████████| 1000/1000 [00:08<00:00, 113.40it/s]\n"
     ]
    },
    {
     "name": "stdout",
     "output_type": "stream",
     "text": [
      "Saving solutions...\n"
     ]
    },
    {
     "name": "stderr",
     "output_type": "stream",
     "text": [
      "100%|██████████| 1000/1000 [00:09<00:00, 109.37it/s]\n"
     ]
    },
    {
     "name": "stdout",
     "output_type": "stream",
     "text": [
      "Saving solution lengths...\n"
     ]
    },
    {
     "name": "stderr",
     "output_type": "stream",
     "text": [
      "100%|██████████| 1000/1000 [00:08<00:00, 114.27it/s]\n"
     ]
    }
   ],
   "source": [
    "mean_approx_ratios = []\n",
    "for data_dir in test_dirs[:1]:\n",
    "    # run test\n",
    "    lengths, solutions, sol_times = api.run_test(data_dir, scale_factor=0.000001)\n",
    "    approx_ratios, mean_approx_ratio = get_approx_ratios(data_dir, lengths)\n",
    "    mean_approx_ratios.append(mean_approx_ratio)\n",
    "    print(mean_approx_ratio)\n",
    "    # save test results\n",
    "    save_approx_ratios(data_dir, approx_ratios, model_name, suffix=search_strategy)\n",
    "    save_solutions(data_dir, solutions, model_name, suffix=search_strategy)\n",
    "    save_lengths(data_dir, lengths, model_name, suffix=search_strategy)"
   ]
  },
  {
   "cell_type": "markdown",
   "metadata": {},
   "source": [
    "# Beam search\n"
   ]
  },
  {
   "cell_type": "code",
   "execution_count": 12,
   "metadata": {},
   "outputs": [
    {
     "name": "stdout",
     "output_type": "stream",
     "text": [
      "Loading test graphs...\n"
     ]
    },
    {
     "name": "stderr",
     "output_type": "stream",
     "text": [
      "100%|██████████| 1000/1000 [00:04<00:00, 200.54it/s]\n",
      "100%|██████████| 1000/1000 [02:22<00:00,  7.03it/s]\n"
     ]
    },
    {
     "name": "stdout",
     "output_type": "stream",
     "text": [
      "Approximation ratio: 1.008371726664478\n",
      "Saving approximation ratios...\n"
     ]
    },
    {
     "name": "stderr",
     "output_type": "stream",
     "text": [
      "100%|██████████| 1000/1000 [00:07<00:00, 131.10it/s]\n"
     ]
    },
    {
     "name": "stdout",
     "output_type": "stream",
     "text": [
      "Saving solutions...\n"
     ]
    },
    {
     "name": "stderr",
     "output_type": "stream",
     "text": [
      "100%|██████████| 1000/1000 [00:07<00:00, 129.45it/s]\n"
     ]
    },
    {
     "name": "stdout",
     "output_type": "stream",
     "text": [
      "Saving solution lengths...\n"
     ]
    },
    {
     "name": "stderr",
     "output_type": "stream",
     "text": [
      "100%|██████████| 1000/1000 [00:07<00:00, 136.21it/s]\n"
     ]
    },
    {
     "name": "stdout",
     "output_type": "stream",
     "text": [
      "Loading test graphs...\n"
     ]
    },
    {
     "name": "stderr",
     "output_type": "stream",
     "text": [
      "100%|██████████| 1000/1000 [00:05<00:00, 194.68it/s]\n",
      "100%|██████████| 1000/1000 [49:27<00:00,  2.97s/it]\n"
     ]
    },
    {
     "name": "stdout",
     "output_type": "stream",
     "text": [
      "Approximation ratio: 1.000354763810286\n",
      "Saving approximation ratios...\n"
     ]
    },
    {
     "name": "stderr",
     "output_type": "stream",
     "text": [
      "100%|██████████| 1000/1000 [00:07<00:00, 135.88it/s]\n"
     ]
    },
    {
     "name": "stdout",
     "output_type": "stream",
     "text": [
      "Saving solutions...\n"
     ]
    },
    {
     "name": "stderr",
     "output_type": "stream",
     "text": [
      "100%|██████████| 1000/1000 [00:07<00:00, 134.61it/s]\n"
     ]
    },
    {
     "name": "stdout",
     "output_type": "stream",
     "text": [
      "Saving solution lengths...\n"
     ]
    },
    {
     "name": "stderr",
     "output_type": "stream",
     "text": [
      "100%|██████████| 1000/1000 [00:07<00:00, 137.75it/s]\n"
     ]
    }
   ],
   "source": [
    "# specify different configurations\n",
    "beam_widths = [8, 16, 32, 64]\n",
    "beam_widths = [1, 128]\n",
    "# use beam search during testing\n",
    "search_strategy = 'beam_search+'\n",
    "api.DQN.cfg['search_strategy'] = search_strategy\n",
    "for beam_width in beam_widths:\n",
    "    suffix = f'{search_strategy}_{beam_width}'\n",
    "    api.DQN.cfg['beam_width'] = beam_width\n",
    "    mean_approx_ratios = []\n",
    "    for data_dir in test_dirs[0:1]:\n",
    "        # run test\n",
    "        lengths, solutions, sol_times = api.run_test(data_dir, scale_factor=0.000001)\n",
    "        approx_ratios, mean_approx_ratio = get_approx_ratios(data_dir, lengths)\n",
    "        mean_approx_ratios.append(mean_approx_ratio)\n",
    "        print(\"Approximation ratio:\", mean_approx_ratio)\n",
    "        # save test results\n",
    "        save_approx_ratios(data_dir, approx_ratios, model_name, suffix=suffix)\n",
    "        save_solutions(data_dir, solutions, model_name, suffix=suffix)\n",
    "        save_lengths(data_dir, lengths, model_name, suffix=suffix)"
   ]
  },
  {
   "cell_type": "code",
   "execution_count": 7,
   "metadata": {},
   "outputs": [],
   "source": [
    "# use beam search during testing\n",
    "search_strategy = 'beam_search+'\n",
    "beam_width = 128\n",
    "batch_size = 128\n",
    "\n",
    "api.DQN.cfg['search_strategy'] = search_strategy\n",
    "api.DQN.cfg['beam_width'] = beam_width\n",
    "api.DQN.cfg['BATCH_SIZE'] = batch_size\n",
    "\n",
    "suffix = f'{search_strategy}_{beam_width}'"
   ]
  },
  {
   "cell_type": "code",
   "execution_count": 8,
   "metadata": {},
   "outputs": [
    {
     "name": "stdout",
     "output_type": "stream",
     "text": [
      "{'help_func': 0, 'reward_normalization': 'max', 'reward_sign': -1, 'fix_start_node': 0, 'net_type': 'AGNN', 'max_bp_iter': 3, 'aggregatorID': 1, 'node_init_dim': 6, 'edge_init_dim': 4, 'state_init_dim': 1, 'node_embed_dim': 64, 'edge_embed_dim': 64, 'state_embed_dim': 192, 'embeddingMethod': 3, 'ignore_covered_edges': 0, 'selected_nodes_inclusion': 1, 'focus_start_end_node': 1, 'state_representation': 0, 'IsHuberloss': 0, 'BATCH_SIZE': 128, 'initialization_stddev': 0.01, 'MAX_ITERATION': 1000000, 'LEARNING_RATE': 0.001, 'Alpha': 0.001, 'save_interval': 300, 'num_env': 1, 'dropout_rate': 0.0, 'g_type': 'tsp_2d', 'NUM_MIN': 20, 'NUM_MAX': 20, 'NN_ratio': 1.0, 'n_generator': 1000, 'train_path': 'data/train_sets/synthetic_n_20_200000', 'train_scale_fac': 1e-06, 'decoder_type': 0, 'REG_HIDDEN': 32, 'search_strategy': 'beam_search+', 'beam_width': 128, 'IsDoubleDQN': 0, 'N_STEP': 5, 'GAMMA': 1.0, 'UPDATE_TIME': 1000, 'eps_start': 1.0, 'eps_end': 0.05, 'eps_step': 10000.0, 'MEMORY_SIZE': 150000, 'one_step_encoding': 0, 'use_edge_probs': 1, 'valid_path': 'data/valid_sets/synthetic_nrange_20_20_100', 'valid_scale_fac': 1e-06, 'n_valid': 100, 'IsPrioritizedSampling': 0, 'epsilon': 1e-07, 'alpha': 0.6, 'beta': 0.4, 'beta_increment_per_sampling': 0.001, 'TD_err_upper': 1.0}\n",
      "Loading test graphs...\n"
     ]
    },
    {
     "name": "stderr",
     "output_type": "stream",
     "text": [
      "100%|██████████| 100/100 [00:00<00:00, 173.80it/s]\n",
      "100%|██████████| 100/100 [06:01<00:00,  3.62s/it]"
     ]
    },
    {
     "name": "stdout",
     "output_type": "stream",
     "text": [
      "1.0000735294679544\n"
     ]
    },
    {
     "name": "stderr",
     "output_type": "stream",
     "text": [
      "\n"
     ]
    }
   ],
   "source": [
    "# sanity check\n",
    "lengths, solutions, sol_times = api.run_test(data_dir_valid, scale_factor=0.000001)\n",
    "approx_ratios, mean_approx_ratio = get_approx_ratios(data_dir_valid, lengths)\n",
    "print(mean_approx_ratio)"
   ]
  },
  {
   "cell_type": "code",
   "execution_count": 11,
   "metadata": {},
   "outputs": [
    {
     "name": "stdout",
     "output_type": "stream",
     "text": [
      "{'help_func': 0, 'reward_normalization': 'max', 'reward_sign': -1, 'fix_start_node': 0, 'net_type': 'AGNN', 'max_bp_iter': 3, 'aggregatorID': 1, 'node_init_dim': 6, 'edge_init_dim': 4, 'state_init_dim': 1, 'node_embed_dim': 64, 'edge_embed_dim': 64, 'state_embed_dim': 192, 'embeddingMethod': 3, 'ignore_covered_edges': 0, 'selected_nodes_inclusion': 1, 'focus_start_end_node': 1, 'state_representation': 0, 'IsHuberloss': 0, 'BATCH_SIZE': 128, 'initialization_stddev': 0.01, 'MAX_ITERATION': 1000000, 'LEARNING_RATE': 0.001, 'Alpha': 0.001, 'save_interval': 300, 'num_env': 1, 'dropout_rate': 0.0, 'g_type': 'tsp_2d', 'NUM_MIN': 20, 'NUM_MAX': 20, 'NN_ratio': 1.0, 'n_generator': 1000, 'train_path': 'data/train_sets/synthetic_n_20_200000', 'train_scale_fac': 1e-06, 'decoder_type': 0, 'REG_HIDDEN': 32, 'search_strategy': 'beam_search+', 'beam_width': 128, 'IsDoubleDQN': 0, 'N_STEP': 5, 'GAMMA': 1.0, 'UPDATE_TIME': 1000, 'eps_start': 1.0, 'eps_end': 0.05, 'eps_step': 10000.0, 'MEMORY_SIZE': 150000, 'one_step_encoding': 0, 'use_edge_probs': 1, 'valid_path': 'data/valid_sets/synthetic_nrange_20_20_100', 'valid_scale_fac': 1e-06, 'n_valid': 100, 'IsPrioritizedSampling': 0, 'epsilon': 1e-07, 'alpha': 0.6, 'beta': 0.4, 'beta_increment_per_sampling': 0.001, 'TD_err_upper': 1.0}\n",
      "Loading test graphs...\n"
     ]
    },
    {
     "name": "stderr",
     "output_type": "stream",
     "text": [
      "100%|██████████| 1000/1000 [00:05<00:00, 174.64it/s]\n",
      "100%|██████████| 1000/1000 [58:57<00:00,  3.54s/it]\n"
     ]
    },
    {
     "name": "stdout",
     "output_type": "stream",
     "text": [
      "1.0000898666332352\n",
      "Saving approximation ratios...\n"
     ]
    },
    {
     "name": "stderr",
     "output_type": "stream",
     "text": [
      "100%|██████████| 1000/1000 [00:08<00:00, 118.84it/s]\n"
     ]
    },
    {
     "name": "stdout",
     "output_type": "stream",
     "text": [
      "Saving solutions...\n"
     ]
    },
    {
     "name": "stderr",
     "output_type": "stream",
     "text": [
      "100%|██████████| 1000/1000 [00:08<00:00, 117.06it/s]\n"
     ]
    },
    {
     "name": "stdout",
     "output_type": "stream",
     "text": [
      "Saving solution lengths...\n"
     ]
    },
    {
     "name": "stderr",
     "output_type": "stream",
     "text": [
      "100%|██████████| 1000/1000 [00:08<00:00, 118.30it/s]\n"
     ]
    }
   ],
   "source": [
    "mean_approx_ratios = []\n",
    "for data_dir in test_dirs[0:1]:\n",
    "    # run test\n",
    "    lengths, solutions, sol_times = api.run_test(data_dir, scale_factor=0.000001)\n",
    "    approx_ratios, mean_approx_ratio = get_approx_ratios(data_dir, lengths)\n",
    "    mean_approx_ratios.append(mean_approx_ratio)\n",
    "    print(mean_approx_ratio)\n",
    "    # save test results\n",
    "    save_approx_ratios(data_dir, approx_ratios, model_name, suffix=suffix)\n",
    "    save_solutions(data_dir, solutions, model_name, suffix=suffix)\n",
    "    save_lengths(data_dir, lengths, model_name, suffix=suffix)"
   ]
  },
  {
   "cell_type": "markdown",
   "metadata": {},
   "source": [
    "# TSP sampling/augmentation"
   ]
  },
  {
   "cell_type": "code",
   "execution_count": 11,
   "metadata": {},
   "outputs": [
    {
     "name": "stdout",
     "output_type": "stream",
     "text": [
      "Loading test graphs...\n"
     ]
    },
    {
     "name": "stderr",
     "output_type": "stream",
     "text": [
      "100%|██████████| 1000/1000 [00:06<00:00, 164.58it/s]\n",
      "100%|██████████| 2000/2000 [00:03<00:00, 511.09it/s]\n",
      "100%|██████████| 20/20 [00:47<00:00,  2.35s/it]\n",
      "100%|██████████| 1/1 [00:53<00:00, 53.99s/it]\n"
     ]
    },
    {
     "name": "stdout",
     "output_type": "stream",
     "text": [
      "Approximation ratio: 1.0040125489287055\n",
      "Saving approximation ratios...\n"
     ]
    },
    {
     "name": "stderr",
     "output_type": "stream",
     "text": [
      "100%|██████████| 1000/1000 [00:09<00:00, 107.94it/s]\n"
     ]
    },
    {
     "name": "stdout",
     "output_type": "stream",
     "text": [
      "Saving solutions...\n"
     ]
    },
    {
     "name": "stderr",
     "output_type": "stream",
     "text": [
      "100%|██████████| 1000/1000 [00:09<00:00, 103.87it/s]\n"
     ]
    },
    {
     "name": "stdout",
     "output_type": "stream",
     "text": [
      "Saving solution lengths...\n"
     ]
    },
    {
     "name": "stderr",
     "output_type": "stream",
     "text": [
      "100%|██████████| 1000/1000 [00:09<00:00, 104.20it/s]\n"
     ]
    },
    {
     "name": "stdout",
     "output_type": "stream",
     "text": [
      "Loading test graphs...\n"
     ]
    },
    {
     "name": "stderr",
     "output_type": "stream",
     "text": [
      "100%|██████████| 1000/1000 [00:06<00:00, 164.28it/s]\n",
      "100%|██████████| 4000/4000 [00:08<00:00, 487.16it/s]\n",
      "100%|██████████| 20/20 [01:54<00:00,  5.74s/it]\n",
      "100%|██████████| 1/1 [02:09<00:00, 129.59s/it]\n"
     ]
    },
    {
     "name": "stdout",
     "output_type": "stream",
     "text": [
      "Approximation ratio: 1.0019035904191225\n",
      "Saving approximation ratios...\n"
     ]
    },
    {
     "name": "stderr",
     "output_type": "stream",
     "text": [
      "100%|██████████| 1000/1000 [00:08<00:00, 117.89it/s]\n"
     ]
    },
    {
     "name": "stdout",
     "output_type": "stream",
     "text": [
      "Saving solutions...\n"
     ]
    },
    {
     "name": "stderr",
     "output_type": "stream",
     "text": [
      "100%|██████████| 1000/1000 [00:08<00:00, 121.02it/s]\n"
     ]
    },
    {
     "name": "stdout",
     "output_type": "stream",
     "text": [
      "Saving solution lengths...\n"
     ]
    },
    {
     "name": "stderr",
     "output_type": "stream",
     "text": [
      "100%|██████████| 1000/1000 [00:09<00:00, 110.38it/s]\n"
     ]
    },
    {
     "name": "stdout",
     "output_type": "stream",
     "text": [
      "Loading test graphs...\n"
     ]
    },
    {
     "name": "stderr",
     "output_type": "stream",
     "text": [
      "100%|██████████| 1000/1000 [00:06<00:00, 163.52it/s]\n",
      "100%|██████████| 8000/8000 [00:15<00:00, 508.07it/s]\n",
      "100%|██████████| 20/20 [05:29<00:00, 16.48s/it]\n",
      "100%|██████████| 1/1 [05:58<00:00, 358.55s/it]\n"
     ]
    },
    {
     "name": "stdout",
     "output_type": "stream",
     "text": [
      "Approximation ratio: 1.0008767615525\n",
      "Saving approximation ratios...\n"
     ]
    },
    {
     "name": "stderr",
     "output_type": "stream",
     "text": [
      "100%|██████████| 1000/1000 [00:09<00:00, 109.68it/s]\n"
     ]
    },
    {
     "name": "stdout",
     "output_type": "stream",
     "text": [
      "Saving solutions...\n"
     ]
    },
    {
     "name": "stderr",
     "output_type": "stream",
     "text": [
      "100%|██████████| 1000/1000 [00:08<00:00, 116.91it/s]\n"
     ]
    },
    {
     "name": "stdout",
     "output_type": "stream",
     "text": [
      "Saving solution lengths...\n"
     ]
    },
    {
     "name": "stderr",
     "output_type": "stream",
     "text": [
      "100%|██████████| 1000/1000 [00:08<00:00, 115.70it/s]\n"
     ]
    },
    {
     "name": "stdout",
     "output_type": "stream",
     "text": [
      "Loading test graphs...\n"
     ]
    },
    {
     "name": "stderr",
     "output_type": "stream",
     "text": [
      "100%|██████████| 1000/1000 [00:05<00:00, 185.32it/s]\n",
      "100%|██████████| 10000/10000 [00:17<00:00, 561.77it/s]\n",
      "100%|██████████| 20/20 [07:50<00:00, 23.51s/it]\n",
      "100%|██████████| 6000/6000 [00:11<00:00, 516.89it/s]\n",
      "100%|██████████| 20/20 [03:36<00:00, 10.81s/it]\n",
      "100%|██████████| 2/2 [12:21<00:00, 370.69s/it]\n"
     ]
    },
    {
     "name": "stdout",
     "output_type": "stream",
     "text": [
      "Approximation ratio: 1.0005839873224354\n",
      "Saving approximation ratios...\n"
     ]
    },
    {
     "name": "stderr",
     "output_type": "stream",
     "text": [
      "100%|██████████| 1000/1000 [00:09<00:00, 109.69it/s]\n"
     ]
    },
    {
     "name": "stdout",
     "output_type": "stream",
     "text": [
      "Saving solutions...\n"
     ]
    },
    {
     "name": "stderr",
     "output_type": "stream",
     "text": [
      "100%|██████████| 1000/1000 [00:08<00:00, 116.04it/s]\n"
     ]
    },
    {
     "name": "stdout",
     "output_type": "stream",
     "text": [
      "Saving solution lengths...\n"
     ]
    },
    {
     "name": "stderr",
     "output_type": "stream",
     "text": [
      "100%|██████████| 1000/1000 [00:08<00:00, 117.21it/s]\n"
     ]
    },
    {
     "name": "stdout",
     "output_type": "stream",
     "text": [
      "Loading test graphs...\n"
     ]
    },
    {
     "name": "stderr",
     "output_type": "stream",
     "text": [
      "100%|██████████| 1000/1000 [00:05<00:00, 178.33it/s]\n",
      "100%|██████████| 9984/9984 [00:17<00:00, 586.70it/s]\n",
      "100%|██████████| 20/20 [07:58<00:00, 23.90s/it]\n",
      "100%|██████████| 9984/9984 [00:19<00:00, 515.17it/s]\n",
      "100%|██████████| 20/20 [08:00<00:00, 24.01s/it]\n",
      "100%|██████████| 9984/9984 [00:18<00:00, 542.77it/s]\n",
      "100%|██████████| 20/20 [08:14<00:00, 24.70s/it]\n",
      "100%|██████████| 2048/2048 [00:03<00:00, 541.96it/s]\n",
      "100%|██████████| 20/20 [00:48<00:00,  2.41s/it]\n",
      "100%|██████████| 4/4 [26:51<00:00, 402.84s/it]\n"
     ]
    },
    {
     "name": "stdout",
     "output_type": "stream",
     "text": [
      "Approximation ratio: 1.0004491931817305\n",
      "Saving approximation ratios...\n"
     ]
    },
    {
     "name": "stderr",
     "output_type": "stream",
     "text": [
      "100%|██████████| 1000/1000 [00:08<00:00, 119.88it/s]\n"
     ]
    },
    {
     "name": "stdout",
     "output_type": "stream",
     "text": [
      "Saving solutions...\n"
     ]
    },
    {
     "name": "stderr",
     "output_type": "stream",
     "text": [
      "100%|██████████| 1000/1000 [00:08<00:00, 116.21it/s]\n"
     ]
    },
    {
     "name": "stdout",
     "output_type": "stream",
     "text": [
      "Saving solution lengths...\n"
     ]
    },
    {
     "name": "stderr",
     "output_type": "stream",
     "text": [
      "100%|██████████| 1000/1000 [00:08<00:00, 119.19it/s]\n"
     ]
    }
   ],
   "source": [
    "# specify different configurations\n",
    "sample_steps = [2, 4, 8, 16, 32]\n",
    "# use beam search during testing\n",
    "search_strategy = 'sampling'\n",
    "api.DQN.cfg['search_strategy'] = search_strategy\n",
    "for sample_step in sample_steps:\n",
    "    suffix = f'{search_strategy}_{sample_step}'\n",
    "    api.DQN.cfg['sample_steps'] = sample_step\n",
    "    mean_approx_ratios = []\n",
    "    for data_dir in test_dirs[0:1]:\n",
    "        # run test\n",
    "        lengths, solutions, sol_times = api.run_test(data_dir, scale_factor=0.000001)\n",
    "        approx_ratios, mean_approx_ratio = get_approx_ratios(data_dir, lengths)\n",
    "        mean_approx_ratios.append(mean_approx_ratio)\n",
    "        print(\"Approximation ratio:\", mean_approx_ratio)\n",
    "        # save test results\n",
    "        save_approx_ratios(data_dir, approx_ratios, model_name, suffix=suffix)\n",
    "        save_solutions(data_dir, solutions, model_name, suffix=suffix)\n",
    "        save_lengths(data_dir, lengths, model_name, suffix=suffix)"
   ]
  },
  {
   "cell_type": "code",
   "execution_count": null,
   "metadata": {},
   "outputs": [],
   "source": []
  },
  {
   "cell_type": "code",
   "execution_count": null,
   "metadata": {},
   "outputs": [],
   "source": []
  },
  {
   "cell_type": "markdown",
   "metadata": {},
   "source": [
    "# Test helper function"
   ]
  },
  {
   "cell_type": "code",
   "execution_count": null,
   "metadata": {},
   "outputs": [],
   "source": [
    "graph = graph_list[0]\n",
    "length, solution, time_ = dqn.Evaluate(g=graph)"
   ]
  },
  {
   "cell_type": "code",
   "execution_count": null,
   "metadata": {},
   "outputs": [],
   "source": [
    "solution, length"
   ]
  },
  {
   "cell_type": "code",
   "execution_count": null,
   "metadata": {},
   "outputs": [],
   "source": [
    "# check whether length calculation is correct\n",
    "def calc_tour_length(graph, solution):\n",
    "    tot_len = 0\n",
    "    for i in range(np.array(solution).shape[0]):\n",
    "        if i == np.array(solution).shape[0] - 1:\n",
    "            tot_len += graph[solution[i]][solution[0]]['weight']\n",
    "        else:\n",
    "            tot_len += graph[solution[i]][solution[i + 1]]['weight']\n",
    "    return tot_len"
   ]
  },
  {
   "cell_type": "code",
   "execution_count": null,
   "metadata": {},
   "outputs": [],
   "source": [
    "def add_node(graph, cur_sol, new_node):\n",
    "    cur_dist = 10000000.0\n",
    "    for i in range(0, np.array(cur_sol).shape[0]):\n",
    "        if i + 1 == np.array(cur_sol).shape[0]:\n",
    "            adj = cur_sol[0]\n",
    "        else:\n",
    "            adj = cur_sol[i + 1]\n",
    "        if cur_sol[i] == adj:\n",
    "            cost = graph[new_node][cur_sol[i]]['weight'] + graph[new_node][adj]['weight']\n",
    "        else:\n",
    "            cost = graph[new_node][cur_sol[i]]['weight'] + graph[new_node][adj]['weight'] - graph[cur_sol[i]][adj]['weight']\n",
    "        if cost < cur_dist:\n",
    "            cur_dist = cost\n",
    "            pos = i + 1\n",
    "    cur_sol.insert(pos, new_node)\n",
    "    return  cur_dist"
   ]
  },
  {
   "cell_type": "code",
   "execution_count": null,
   "metadata": {},
   "outputs": [],
   "source": [
    "def calc_helper_tour(g):\n",
    "    cur_sol = [0]\n",
    "    rem_nodes = list(np.arange(g.number_of_nodes()))\n",
    "    rem_nodes.remove(0)\n",
    "    tour_length = 0\n",
    "    while np.array(cur_sol).shape[0] < g.number_of_nodes():\n",
    "        if np.array(rem_nodes).shape[0]-1 == 0:\n",
    "            rand_idx = 0\n",
    "        else:\n",
    "            rand_idx = np.random.randint(0, np.array(rem_nodes).shape[0]-1)\n",
    "        new_node = rem_nodes[rand_idx]\n",
    "        tour_length += add_node(g, cur_sol, new_node)\n",
    "        rem_nodes.remove(new_node)\n",
    "    return tour_length, cur_sol\n"
   ]
  },
  {
   "cell_type": "code",
   "execution_count": null,
   "metadata": {},
   "outputs": [],
   "source": [
    "max_result = -np.inf\n",
    "min_result = np.inf\n",
    "for i in range(100):\n",
    "    help_lengths = []\n",
    "    for graph in graph_list:\n",
    "        help_lengths.append(calc_helper_tour(graph)[0])\n",
    "\n",
    "    true_lengths = None\n",
    "    with open(data_dir+'lengths.txt', 'r') as f:\n",
    "        lines = f.readlines()\n",
    "        lines = [float(line.split(':')[-1].strip()) for line in lines]\n",
    "    true_lengths = lines\n",
    "    result = np.mean([length[0]/length[1] for length in zip(help_lengths, true_lengths)])\n",
    "    if result < min_result:\n",
    "        min_result = result\n",
    "    if result > max_result:\n",
    "        max_result = result"
   ]
  },
  {
   "cell_type": "code",
   "execution_count": null,
   "metadata": {},
   "outputs": [],
   "source": [
    "print(min_result)\n",
    "print(max_result)"
   ]
  },
  {
   "cell_type": "code",
   "execution_count": null,
   "metadata": {},
   "outputs": [],
   "source": []
  }
 ],
 "metadata": {
  "interpreter": {
   "hash": "6361d337a79430850a9bff48e7455f29af0d81b3faf325fa31e0f3474c613882"
  },
  "kernelspec": {
   "display_name": "Python 3.7.11 64-bit ('FINDER_env': conda)",
   "name": "python3"
  },
  "language_info": {
   "codemirror_mode": {
    "name": "ipython",
    "version": 3
   },
   "file_extension": ".py",
   "mimetype": "text/x-python",
   "name": "python",
   "nbconvert_exporter": "python",
   "pygments_lexer": "ipython3",
   "version": "3.7.11"
  },
  "orig_nbformat": 2
 },
 "nbformat": 4,
 "nbformat_minor": 2
}
