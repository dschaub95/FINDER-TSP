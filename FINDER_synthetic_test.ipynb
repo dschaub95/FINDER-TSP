{
 "metadata": {
  "language_info": {
   "codemirror_mode": {
    "name": "ipython",
    "version": 3
   },
   "file_extension": ".py",
   "mimetype": "text/x-python",
   "name": "python",
   "nbconvert_exporter": "python",
   "pygments_lexer": "ipython3",
   "version": "3.7.10"
  },
  "orig_nbformat": 2,
  "kernelspec": {
   "name": "python3",
   "display_name": "Python 3.7.10 64-bit ('findervenv': conda)"
  },
  "interpreter": {
   "hash": "cac74b763dd6365b660360e42fb86b007d1646e45a2a765c06460ea0e8dba80b"
  }
 },
 "nbformat": 4,
 "nbformat_minor": 2,
 "cells": [
  {
   "cell_type": "code",
   "execution_count": 1,
   "source": [
    "%load_ext autoreload\n",
    "%autoreload 2"
   ],
   "outputs": [],
   "metadata": {}
  },
  {
   "cell_type": "code",
   "execution_count": 2,
   "source": [
    "from FINDER import FINDER\n",
    "from FINDER_test_utils import *\n",
    "import os\n",
    "import tqdm\n",
    "import numpy as np\n",
    "import pandas as pd\n",
    "import tsplib95\n",
    "import networkx as nx\n",
    "import re\n"
   ],
   "outputs": [
    {
     "output_type": "stream",
     "name": "stderr",
     "text": [
      "/root/miniconda3/envs/findervenv/lib/python3.7/site-packages/tensorflow/python/framework/dtypes.py:516: FutureWarning: Passing (type, 1) or '1type' as a synonym of type is deprecated; in a future version of numpy, it will be understood as (type, (1,)) / '(1,)type'.\n",
      "  _np_qint8 = np.dtype([(\"qint8\", np.int8, 1)])\n",
      "/root/miniconda3/envs/findervenv/lib/python3.7/site-packages/tensorflow/python/framework/dtypes.py:517: FutureWarning: Passing (type, 1) or '1type' as a synonym of type is deprecated; in a future version of numpy, it will be understood as (type, (1,)) / '(1,)type'.\n",
      "  _np_quint8 = np.dtype([(\"quint8\", np.uint8, 1)])\n",
      "/root/miniconda3/envs/findervenv/lib/python3.7/site-packages/tensorflow/python/framework/dtypes.py:518: FutureWarning: Passing (type, 1) or '1type' as a synonym of type is deprecated; in a future version of numpy, it will be understood as (type, (1,)) / '(1,)type'.\n",
      "  _np_qint16 = np.dtype([(\"qint16\", np.int16, 1)])\n",
      "/root/miniconda3/envs/findervenv/lib/python3.7/site-packages/tensorflow/python/framework/dtypes.py:519: FutureWarning: Passing (type, 1) or '1type' as a synonym of type is deprecated; in a future version of numpy, it will be understood as (type, (1,)) / '(1,)type'.\n",
      "  _np_quint16 = np.dtype([(\"quint16\", np.uint16, 1)])\n",
      "/root/miniconda3/envs/findervenv/lib/python3.7/site-packages/tensorflow/python/framework/dtypes.py:520: FutureWarning: Passing (type, 1) or '1type' as a synonym of type is deprecated; in a future version of numpy, it will be understood as (type, (1,)) / '(1,)type'.\n",
      "  _np_qint32 = np.dtype([(\"qint32\", np.int32, 1)])\n",
      "/root/miniconda3/envs/findervenv/lib/python3.7/site-packages/tensorflow/python/framework/dtypes.py:525: FutureWarning: Passing (type, 1) or '1type' as a synonym of type is deprecated; in a future version of numpy, it will be understood as (type, (1,)) / '(1,)type'.\n",
      "  np_resource = np.dtype([(\"resource\", np.ubyte, 1)])\n",
      "/root/miniconda3/envs/findervenv/lib/python3.7/site-packages/tensorboard/compat/tensorflow_stub/dtypes.py:541: FutureWarning: Passing (type, 1) or '1type' as a synonym of type is deprecated; in a future version of numpy, it will be understood as (type, (1,)) / '(1,)type'.\n",
      "  _np_qint8 = np.dtype([(\"qint8\", np.int8, 1)])\n",
      "/root/miniconda3/envs/findervenv/lib/python3.7/site-packages/tensorboard/compat/tensorflow_stub/dtypes.py:542: FutureWarning: Passing (type, 1) or '1type' as a synonym of type is deprecated; in a future version of numpy, it will be understood as (type, (1,)) / '(1,)type'.\n",
      "  _np_quint8 = np.dtype([(\"quint8\", np.uint8, 1)])\n",
      "/root/miniconda3/envs/findervenv/lib/python3.7/site-packages/tensorboard/compat/tensorflow_stub/dtypes.py:543: FutureWarning: Passing (type, 1) or '1type' as a synonym of type is deprecated; in a future version of numpy, it will be understood as (type, (1,)) / '(1,)type'.\n",
      "  _np_qint16 = np.dtype([(\"qint16\", np.int16, 1)])\n",
      "/root/miniconda3/envs/findervenv/lib/python3.7/site-packages/tensorboard/compat/tensorflow_stub/dtypes.py:544: FutureWarning: Passing (type, 1) or '1type' as a synonym of type is deprecated; in a future version of numpy, it will be understood as (type, (1,)) / '(1,)type'.\n",
      "  _np_quint16 = np.dtype([(\"quint16\", np.uint16, 1)])\n",
      "/root/miniconda3/envs/findervenv/lib/python3.7/site-packages/tensorboard/compat/tensorflow_stub/dtypes.py:545: FutureWarning: Passing (type, 1) or '1type' as a synonym of type is deprecated; in a future version of numpy, it will be understood as (type, (1,)) / '(1,)type'.\n",
      "  _np_qint32 = np.dtype([(\"qint32\", np.int32, 1)])\n",
      "/root/miniconda3/envs/findervenv/lib/python3.7/site-packages/tensorboard/compat/tensorflow_stub/dtypes.py:550: FutureWarning: Passing (type, 1) or '1type' as a synonym of type is deprecated; in a future version of numpy, it will be understood as (type, (1,)) / '(1,)type'.\n",
      "  np_resource = np.dtype([(\"resource\", np.ubyte, 1)])\n"
     ]
    }
   ],
   "metadata": {}
  },
  {
   "cell_type": "markdown",
   "source": [
    "# Specify and load model"
   ],
   "metadata": {}
  },
  {
   "cell_type": "code",
   "execution_count": 3,
   "source": [
    "# model_path =  'best_models/tsp_2d/nrange_15_20_len_1038117/'\n",
    "# model_path =  'best_models/tsp_2d/nrange_15_20_len_1013653/'\n",
    "model_path =  'best_models/tsp_2d/nrange_15_20_len_1011194/'\n",
    "model_path =  'best_models/tsp_2d/nrange_15_20_len_1011362/'\n",
    "model_path =  'best_models/tsp_2d/nrange_15_20_len_1012015/'\n",
    "model_file, model_base_path, tour_length = get_model_file(model_path)\n",
    "config_path = model_path + 'config.txt'\n",
    "dqn = FINDER(config_path=config_path)\n",
    "# load model into Finder\n",
    "print(model_file)\n",
    "best_model = dqn.LoadModel(model_path=model_path+model_file)"
   ],
   "outputs": [
    {
     "output_type": "stream",
     "name": "stdout",
     "text": [
      "Best model file: nrange_15_20_iter_1500_len_1012015.ckpt\n",
      "Sucessfully loaded key 'help_func' from external config file!\n",
      "Sucessfully loaded key 'net_type' from external config file!\n",
      "Sucessfully loaded key 'max_bp_iter' from external config file!\n",
      "Sucessfully loaded key 'aggregatorID' from external config file!\n",
      "Sucessfully loaded key 'node_init_dim' from external config file!\n",
      "Sucessfully loaded key 'edge_init_dim' from external config file!\n",
      "Sucessfully loaded key 'state_init_dim' from external config file!\n",
      "Sucessfully loaded key 'node_embed_dim' from external config file!\n",
      "Sucessfully loaded key 'edge_embed_dim' from external config file!\n",
      "Sucessfully loaded key 'embeddingMethod' from external config file!\n",
      "Sucessfully loaded key 'ignore_covered_edges' from external config file!\n",
      "Sucessfully loaded key 'selected_nodes_inclusion' from external config file!\n",
      "Sucessfully loaded key 'focus_start_end_node' from external config file!\n",
      "Sucessfully loaded key 'state_representation' from external config file!\n",
      "Sucessfully loaded key 'IsHuberloss' from external config file!\n",
      "Sucessfully loaded key 'BATCH_SIZE' from external config file!\n",
      "Sucessfully loaded key 'initialization_stddev' from external config file!\n",
      "Sucessfully loaded key 'MAX_ITERATION' from external config file!\n",
      "Sucessfully loaded key 'LEARNING_RATE' from external config file!\n",
      "Sucessfully loaded key 'Alpha' from external config file!\n",
      "Sucessfully loaded key 'save_interval' from external config file!\n",
      "Sucessfully loaded key 'num_env' from external config file!\n",
      "Sucessfully loaded key 'g_type' from external config file!\n",
      "Sucessfully loaded key 'NUM_MIN' from external config file!\n",
      "Sucessfully loaded key 'NUM_MAX' from external config file!\n",
      "Sucessfully loaded key 'NN_ratio' from external config file!\n",
      "Sucessfully loaded key 'n_generator' from external config file!\n",
      "Sucessfully loaded key 'decoder' from external config file!\n",
      "Sucessfully loaded key 'REG_HIDDEN' from external config file!\n",
      "Sucessfully loaded key 'IsDoubleDQN' from external config file!\n",
      "Sucessfully loaded key 'N_STEP' from external config file!\n",
      "Sucessfully loaded key 'GAMMA' from external config file!\n",
      "Sucessfully loaded key 'UPDATE_TIME' from external config file!\n",
      "Sucessfully loaded key 'eps_start' from external config file!\n",
      "Sucessfully loaded key 'eps_end' from external config file!\n",
      "Sucessfully loaded key 'eps_step' from external config file!\n",
      "Sucessfully loaded key 'MEMORY_SIZE' from external config file!\n",
      "Sucessfully loaded key 'reward_normalization' from external config file!\n",
      "Sucessfully loaded key 'reward_sign' from external config file!\n",
      "Sucessfully loaded key 'valid_path' from external config file!\n",
      "Sucessfully loaded key 'valid_scale_fac' from external config file!\n",
      "Sucessfully loaded key 'n_valid' from external config file!\n",
      "Sucessfully loaded key 'IsPrioritizedSampling' from external config file!\n",
      "Sucessfully loaded key 'epsilon' from external config file!\n",
      "Sucessfully loaded key 'alpha' from external config file!\n",
      "Sucessfully loaded key 'beta' from external config file!\n",
      "Sucessfully loaded key 'beta_increment_per_sampling' from external config file!\n",
      "Sucessfully loaded key 'TD_err_upper' from external config file!\n",
      "[<tf.Variable 'Variable:0' shape=(6, 64) dtype=float32_ref>, <tf.Variable 'Variable_1:0' shape=(1, 64) dtype=float32_ref>, <tf.Variable 'Variable_2:0' shape=(4, 64) dtype=float32_ref>, <tf.Variable 'Variable_3:0' shape=(64, 64) dtype=float32_ref>, <tf.Variable 'Variable_4:0' shape=(64, 64) dtype=float32_ref>, <tf.Variable 'Variable_5:0' shape=(64, 64) dtype=float32_ref>, <tf.Variable 'Variable_6:0' shape=(64, 64) dtype=float32_ref>, <tf.Variable 'Variable_7:0' shape=(64, 64) dtype=float32_ref>, <tf.Variable 'Variable_8:0' shape=(64, 64) dtype=float32_ref>, <tf.Variable 'Variable_9:0' shape=(64, 64) dtype=float32_ref>, <tf.Variable 'Variable_10:0' shape=(64, 64) dtype=float32_ref>, <tf.Variable 'Variable_11:0' shape=(64, 64) dtype=float32_ref>, <tf.Variable 'Variable_12:0' shape=(64, 64) dtype=float32_ref>, <tf.Variable 'Variable_13:0' shape=(64, 64) dtype=float32_ref>, <tf.Variable 'Variable_14:0' shape=(64, 64) dtype=float32_ref>, <tf.Variable 'Variable_15:0' shape=(64, 64) dtype=float32_ref>, <tf.Variable 'Variable_16:0' shape=(64, 64) dtype=float32_ref>, <tf.Variable 'Variable_17:0' shape=(64, 64) dtype=float32_ref>, <tf.Variable 'layer_normalization/gamma:0' shape=(64,) dtype=float32>, <tf.Variable 'layer_normalization/beta:0' shape=(64,) dtype=float32>, <tf.Variable 'layer_normalization_1/gamma:0' shape=(64,) dtype=float32>, <tf.Variable 'layer_normalization_1/beta:0' shape=(64,) dtype=float32>, <tf.Variable 'layer_normalization_2/gamma:0' shape=(64,) dtype=float32>, <tf.Variable 'layer_normalization_2/beta:0' shape=(64,) dtype=float32>, <tf.Variable 'layer_normalization_3/gamma:0' shape=(64,) dtype=float32>, <tf.Variable 'layer_normalization_3/beta:0' shape=(64,) dtype=float32>, <tf.Variable 'layer_normalization_4/gamma:0' shape=(64,) dtype=float32>, <tf.Variable 'layer_normalization_4/beta:0' shape=(64,) dtype=float32>, <tf.Variable 'layer_normalization_5/gamma:0' shape=(64,) dtype=float32>, <tf.Variable 'layer_normalization_5/beta:0' shape=(64,) dtype=float32>, <tf.Variable 'layer_normalization_6/gamma:0' shape=(64,) dtype=float32>, <tf.Variable 'layer_normalization_6/beta:0' shape=(64,) dtype=float32>, <tf.Variable 'Variable_18:0' shape=(128, 32) dtype=float32_ref>, <tf.Variable 'Variable_19:0' shape=(32, 1) dtype=float32_ref>]\n"
     ]
    },
    {
     "output_type": "stream",
     "name": "stderr",
     "text": [
      "2021-08-04 17:05:34.591585: I tensorflow/core/platform/cpu_feature_guard.cc:142] Your CPU supports instructions that this TensorFlow binary was not compiled to use: AVX2 FMA\n",
      "2021-08-04 17:05:34.617199: I tensorflow/core/platform/profile_utils/cpu_utils.cc:94] CPU Frequency: 3991110000 Hz\n",
      "2021-08-04 17:05:34.617647: I tensorflow/compiler/xla/service/service.cc:168] XLA service 0x558724d1e940 executing computations on platform Host. Devices:\n",
      "2021-08-04 17:05:34.617678: I tensorflow/compiler/xla/service/service.cc:175]   StreamExecutor device (0): <undefined>, <undefined>\n",
      "2021-08-04 17:05:34.619048: I tensorflow/stream_executor/platform/default/dso_loader.cc:42] Successfully opened dynamic library libcuda.so.1\n",
      "2021-08-04 17:05:34.623724: E tensorflow/stream_executor/cuda/cuda_driver.cc:318] failed call to cuInit: CUDA_ERROR_UNKNOWN: unknown error\n",
      "2021-08-04 17:05:34.623759: I tensorflow/stream_executor/cuda/cuda_diagnostics.cc:169] retrieving CUDA diagnostic information for host: efb065cb6573\n",
      "2021-08-04 17:05:34.623767: I tensorflow/stream_executor/cuda/cuda_diagnostics.cc:176] hostname: efb065cb6573\n",
      "2021-08-04 17:05:34.623853: I tensorflow/stream_executor/cuda/cuda_diagnostics.cc:200] libcuda reported version is: 460.91.3\n",
      "2021-08-04 17:05:34.623901: I tensorflow/stream_executor/cuda/cuda_diagnostics.cc:204] kernel reported version is: 460.91.3\n",
      "2021-08-04 17:05:34.623914: I tensorflow/stream_executor/cuda/cuda_diagnostics.cc:310] kernel version seems to match DSO: 460.91.3\n",
      "2021-08-04 17:05:34.938081: W tensorflow/compiler/jit/mark_for_compilation_pass.cc:1412] (One-time warning): Not using XLA:CPU for cluster because envvar TF_XLA_FLAGS=--tf_xla_cpu_global_jit was not set.  If you want XLA:CPU, either set that envvar, or use experimental_jit_scope to enable XLA:CPU.  To confirm that XLA is active, pass --vmodule=xla_compilation_cache=1 (as a proper command-line flag, not via TF_XLA_FLAGS) or set the envvar XLA_FLAGS=--xla_hlo_profile.\n"
     ]
    },
    {
     "output_type": "stream",
     "name": "stdout",
     "text": [
      "nrange_15_20_iter_1500_len_1012015.ckpt\n",
      "model sucessfully restored from file\n"
     ]
    }
   ],
   "metadata": {
    "tags": []
   }
  },
  {
   "cell_type": "markdown",
   "source": [
    "# Run tests"
   ],
   "metadata": {}
  },
  {
   "cell_type": "code",
   "execution_count": 4,
   "source": [
    "# data_dir = 'test_sets/synthetic_nrange_10_20_1000/'\n",
    "# data_dir = 'test_sets/synthetic_nrange_15_20_1000/'\n",
    "# data_dir = 'test_sets/synthetic_nrange_40_50_1000/'\n",
    "# data_dir = 'valid_sets/synthetic_nrange_10_20_200/'\n",
    "# data_dir = 'valid_sets/synthetic_nrange_15_20_200/'\n",
    "data_dir = 'test_sets/tsp_min-n=15_max-n=20_num-graph=1000_type=random/'\n",
    "data_dir_0 = 'test_sets/tsp_min-n=15_max-n=20_num-graph=1000_type=random/'\n",
    "data_dir_1 = 'test_sets/tsp_min-n=40_max-n=50_num-graph=1000_type=random/'\n",
    "data_dir_2 = 'test_sets/tsp_min-n=50_max-n=100_num-graph=1000_type=random/'\n",
    "data_dir_3 = 'test_sets/tsp_min-n=100_max-n=200_num-graph=1000_type=random/'\n",
    "\n",
    "test_dirs = [data_dir_0, data_dir_1, data_dir_2]"
   ],
   "outputs": [],
   "metadata": {}
  },
  {
   "cell_type": "code",
   "execution_count": 5,
   "source": [
    "# load test data\n",
    "graph_list, fnames = prepare_testset_S2VDQN(data_dir)\n",
    "lengths, solutions, sol_times = run_test(dqn, graph_list)\n",
    "approx_ratios, mean_approx_ratio = get_approx_ratios(data_dir, fnames, lengths)\n",
    "print(mean_approx_ratio)\n",
    "save_approx_ratios(data_dir, fnames, approx_ratios, model_file)\n",
    "save_solutions(data_dir, fnames, solutions, model_file)\n",
    "save_lengths(data_dir, fnames, lengths, model_file)\n"
   ],
   "outputs": [
    {
     "output_type": "stream",
     "name": "stderr",
     "text": [
      "13it [00:00, 127.28it/s]Loading test graphs...\n",
      "1000it [00:06, 148.10it/s]\n",
      "  0%|          | 0/1000 [00:00<?, ?it/s]2021-07-20 14:41:34.765977: I tensorflow/stream_executor/platform/default/dso_loader.cc:42] Successfully opened dynamic library libcublas.so.10.0\n",
      "100%|██████████| 1000/1000 [01:11<00:00, 13.91it/s]\n",
      "  5%|▍         | 49/1000 [00:00<00:01, 486.04it/s]1.0206159817090894\n",
      "Saving approximation ratios...\n",
      "100%|██████████| 1000/1000 [00:02<00:00, 476.69it/s]\n",
      "  3%|▎         | 29/1000 [00:00<00:03, 282.32it/s]Saving solutions...\n",
      "100%|██████████| 1000/1000 [00:29<00:00, 34.27it/s]\n",
      "  5%|▌         | 52/1000 [00:00<00:01, 513.14it/s]Saving solution lengths...\n",
      "100%|██████████| 1000/1000 [00:02<00:00, 496.15it/s]\n"
     ]
    }
   ],
   "metadata": {}
  },
  {
   "cell_type": "code",
   "execution_count": 5,
   "source": [
    "mean_approx_ratios = []\n",
    "for data_dir in test_dirs:\n",
    "    # load test data\n",
    "    graph_list, fnames = prepare_testset_S2VDQN(data_dir)\n",
    "    lengths, solutions, sol_times = run_test(dqn, graph_list)\n",
    "    approx_ratios, mean_approx_ratio = get_approx_ratios(data_dir, fnames, lengths)\n",
    "    print(\"Mean approx ratio:\", mean_approx_ratio)\n",
    "    mean_approx_ratios.append(mean_approx_ratio)\n",
    "    save_approx_ratios(data_dir, fnames, approx_ratios, model_file)\n",
    "    save_solutions(data_dir, fnames, solutions, model_file)\n",
    "    save_lengths(data_dir, fnames, lengths, model_file)"
   ],
   "outputs": [
    {
     "output_type": "stream",
     "name": "stderr",
     "text": [
      "15it [00:00, 148.43it/s]"
     ]
    },
    {
     "output_type": "stream",
     "name": "stdout",
     "text": [
      "Loading test graphs...\n"
     ]
    },
    {
     "output_type": "stream",
     "name": "stderr",
     "text": [
      "1000it [00:05, 179.29it/s]\n",
      "100%|██████████| 1000/1000 [00:47<00:00, 21.22it/s]\n",
      "  7%|▋         | 66/1000 [00:00<00:01, 659.70it/s]"
     ]
    },
    {
     "output_type": "stream",
     "name": "stdout",
     "text": [
      "Mean approx ratio: 1.0116863549525976\n",
      "Saving approximation ratios...\n"
     ]
    },
    {
     "output_type": "stream",
     "name": "stderr",
     "text": [
      "100%|██████████| 1000/1000 [00:01<00:00, 641.11it/s]\n",
      "  3%|▎         | 30/1000 [00:00<00:03, 298.43it/s]"
     ]
    },
    {
     "output_type": "stream",
     "name": "stdout",
     "text": [
      "Saving solutions...\n"
     ]
    },
    {
     "output_type": "stream",
     "name": "stderr",
     "text": [
      "100%|██████████| 1000/1000 [00:24<00:00, 41.41it/s]\n",
      "  6%|▌         | 61/1000 [00:00<00:01, 603.02it/s]"
     ]
    },
    {
     "output_type": "stream",
     "name": "stdout",
     "text": [
      "Saving solution lengths...\n"
     ]
    },
    {
     "output_type": "stream",
     "name": "stderr",
     "text": [
      "100%|██████████| 1000/1000 [00:01<00:00, 630.99it/s]\n",
      "4it [00:00, 32.30it/s]"
     ]
    },
    {
     "output_type": "stream",
     "name": "stdout",
     "text": [
      "Loading test graphs...\n"
     ]
    },
    {
     "output_type": "stream",
     "name": "stderr",
     "text": [
      "1000it [00:30, 32.28it/s]\n",
      "100%|██████████| 1000/1000 [06:36<00:00,  2.52it/s]\n",
      "  6%|▌         | 62/1000 [00:00<00:01, 611.29it/s]"
     ]
    },
    {
     "output_type": "stream",
     "name": "stdout",
     "text": [
      "Mean approx ratio: 1.0420853090612936\n",
      "Saving approximation ratios...\n"
     ]
    },
    {
     "output_type": "stream",
     "name": "stderr",
     "text": [
      "100%|██████████| 1000/1000 [00:01<00:00, 654.03it/s]\n",
      "  4%|▍         | 40/1000 [00:00<00:02, 384.67it/s]"
     ]
    },
    {
     "output_type": "stream",
     "name": "stdout",
     "text": [
      "Saving solutions...\n"
     ]
    },
    {
     "output_type": "stream",
     "name": "stderr",
     "text": [
      "100%|██████████| 1000/1000 [00:16<00:00, 60.93it/s]\n",
      "  7%|▋         | 66/1000 [00:00<00:01, 655.75it/s]"
     ]
    },
    {
     "output_type": "stream",
     "name": "stdout",
     "text": [
      "Saving solution lengths...\n"
     ]
    },
    {
     "output_type": "stream",
     "name": "stderr",
     "text": [
      "100%|██████████| 1000/1000 [00:01<00:00, 663.58it/s]\n",
      "2it [00:00, 13.90it/s]"
     ]
    },
    {
     "output_type": "stream",
     "name": "stdout",
     "text": [
      "Loading test graphs...\n"
     ]
    },
    {
     "output_type": "stream",
     "name": "stderr",
     "text": [
      "1000it [01:22, 12.09it/s]\n",
      "100%|██████████| 1000/1000 [35:20<00:00,  2.12s/it]\n",
      "  6%|▋         | 64/1000 [00:00<00:01, 633.13it/s]"
     ]
    },
    {
     "output_type": "stream",
     "name": "stdout",
     "text": [
      "Mean approx ratio: 1.0623905705545544\n",
      "Saving approximation ratios...\n"
     ]
    },
    {
     "output_type": "stream",
     "name": "stderr",
     "text": [
      "100%|██████████| 1000/1000 [00:01<00:00, 647.53it/s]\n",
      "  4%|▍         | 44/1000 [00:00<00:02, 432.70it/s]"
     ]
    },
    {
     "output_type": "stream",
     "name": "stdout",
     "text": [
      "Saving solutions...\n"
     ]
    },
    {
     "output_type": "stream",
     "name": "stderr",
     "text": [
      "100%|██████████| 1000/1000 [00:03<00:00, 254.74it/s]\n",
      "  7%|▋         | 71/1000 [00:00<00:01, 704.32it/s]"
     ]
    },
    {
     "output_type": "stream",
     "name": "stdout",
     "text": [
      "Saving solution lengths...\n"
     ]
    },
    {
     "output_type": "stream",
     "name": "stderr",
     "text": [
      "100%|██████████| 1000/1000 [00:01<00:00, 630.40it/s]\n"
     ]
    }
   ],
   "metadata": {}
  },
  {
   "cell_type": "code",
   "execution_count": 6,
   "source": [
    "print(mean_approx_ratios)"
   ],
   "outputs": [
    {
     "output_type": "stream",
     "name": "stdout",
     "text": [
      "[1.013858676821579, 1.0571815551076498, 1.0878407516135953]\n"
     ]
    }
   ],
   "metadata": {}
  },
  {
   "cell_type": "code",
   "execution_count": null,
   "source": [],
   "outputs": [],
   "metadata": {}
  },
  {
   "cell_type": "code",
   "execution_count": null,
   "source": [],
   "outputs": [],
   "metadata": {}
  },
  {
   "cell_type": "code",
   "execution_count": null,
   "source": [],
   "outputs": [],
   "metadata": {}
  },
  {
   "cell_type": "markdown",
   "source": [
    "# Test helper function"
   ],
   "metadata": {}
  },
  {
   "cell_type": "code",
   "execution_count": 14,
   "source": [
    "graph = graph_list[0]\n",
    "length, solution, time_ = dqn.Evaluate(g=graph)"
   ],
   "outputs": [],
   "metadata": {}
  },
  {
   "cell_type": "code",
   "execution_count": 15,
   "source": [
    "solution, length"
   ],
   "outputs": [
    {
     "output_type": "execute_result",
     "data": {
      "text/plain": [
       "([0, 6, 1, 11, 8, 9, 2, 7, 5, 10, 4, 3], 2.7711)"
      ]
     },
     "metadata": {},
     "execution_count": 15
    }
   ],
   "metadata": {}
  },
  {
   "cell_type": "code",
   "execution_count": 11,
   "source": [
    "# check whether length calculation is correct\n",
    "def calc_tour_length(graph, solution):\n",
    "    tot_len = 0\n",
    "    for i in range(np.array(solution).shape[0]):\n",
    "        if i == np.array(solution).shape[0] - 1:\n",
    "            tot_len += graph[solution[i]][solution[0]]['weight']\n",
    "        else:\n",
    "            tot_len += graph[solution[i]][solution[i + 1]]['weight']\n",
    "    return tot_len"
   ],
   "outputs": [],
   "metadata": {}
  },
  {
   "cell_type": "code",
   "execution_count": 12,
   "source": [
    "def add_node(graph, cur_sol, new_node):\n",
    "    cur_dist = 10000000.0\n",
    "    for i in range(0, np.array(cur_sol).shape[0]):\n",
    "        if i + 1 == np.array(cur_sol).shape[0]:\n",
    "            adj = cur_sol[0]\n",
    "        else:\n",
    "            adj = cur_sol[i + 1]\n",
    "        if cur_sol[i] == adj:\n",
    "            cost = graph[new_node][cur_sol[i]]['weight'] + graph[new_node][adj]['weight']\n",
    "        else:\n",
    "            cost = graph[new_node][cur_sol[i]]['weight'] + graph[new_node][adj]['weight'] - graph[cur_sol[i]][adj]['weight']\n",
    "        if cost < cur_dist:\n",
    "            cur_dist = cost\n",
    "            pos = i + 1\n",
    "    cur_sol.insert(pos, new_node)\n",
    "    return  cur_dist"
   ],
   "outputs": [],
   "metadata": {}
  },
  {
   "cell_type": "code",
   "execution_count": 10,
   "source": [
    "def calc_helper_tour(g):\n",
    "    cur_sol = [0]\n",
    "    rem_nodes = list(np.arange(g.number_of_nodes()))\n",
    "    rem_nodes.remove(0)\n",
    "    tour_length = 0\n",
    "    while np.array(cur_sol).shape[0] < g.number_of_nodes():\n",
    "        if np.array(rem_nodes).shape[0]-1 == 0:\n",
    "            rand_idx = 0\n",
    "        else:\n",
    "            rand_idx = np.random.randint(0, np.array(rem_nodes).shape[0]-1)\n",
    "        new_node = rem_nodes[rand_idx]\n",
    "        tour_length += add_node(g, cur_sol, new_node)\n",
    "        rem_nodes.remove(new_node)\n",
    "    return tour_length, cur_sol\n"
   ],
   "outputs": [],
   "metadata": {}
  },
  {
   "cell_type": "code",
   "execution_count": 16,
   "source": [
    "max_result = -np.inf\n",
    "min_result = np.inf\n",
    "for i in range(100):\n",
    "    help_lengths = []\n",
    "    for graph in graph_list:\n",
    "        help_lengths.append(calc_helper_tour(graph)[0])\n",
    "\n",
    "    true_lengths = None\n",
    "    with open(data_dir+'lengths.txt', 'r') as f:\n",
    "        lines = f.readlines()\n",
    "        lines = [float(line.split(':')[-1].strip()) for line in lines]\n",
    "    true_lengths = lines\n",
    "    result = np.mean([length[0]/length[1] for length in zip(help_lengths, true_lengths)])\n",
    "    if result < min_result:\n",
    "        min_result = result\n",
    "    if result > max_result:\n",
    "        max_result = result"
   ],
   "outputs": [],
   "metadata": {}
  },
  {
   "cell_type": "code",
   "execution_count": 18,
   "source": [
    "print(min_result)\n",
    "print(max_result)"
   ],
   "outputs": [
    {
     "output_type": "stream",
     "name": "stdout",
     "text": [
      "1.0291948212594315\n",
      "1.0353626379176066\n"
     ]
    }
   ],
   "metadata": {}
  },
  {
   "cell_type": "code",
   "execution_count": 40,
   "source": [],
   "outputs": [
    {
     "output_type": "execute_result",
     "data": {
      "text/plain": [
       "5.9577"
      ]
     },
     "metadata": {},
     "execution_count": 40
    }
   ],
   "metadata": {}
  }
 ]
}