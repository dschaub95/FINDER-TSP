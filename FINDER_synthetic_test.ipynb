{
 "metadata": {
  "language_info": {
   "codemirror_mode": {
    "name": "ipython",
    "version": 3
   },
   "file_extension": ".py",
   "mimetype": "text/x-python",
   "name": "python",
   "nbconvert_exporter": "python",
   "pygments_lexer": "ipython3",
   "version": "3.7.11"
  },
  "orig_nbformat": 2,
  "kernelspec": {
   "name": "python3",
   "display_name": "Python 3.7.11 64-bit ('FINDER_env': conda)"
  },
  "interpreter": {
   "hash": "6361d337a79430850a9bff48e7455f29af0d81b3faf325fa31e0f3474c613882"
  }
 },
 "nbformat": 4,
 "nbformat_minor": 2,
 "cells": [
  {
   "cell_type": "code",
   "execution_count": 1,
   "source": [
    "%load_ext autoreload\n",
    "%autoreload 2"
   ],
   "outputs": [],
   "metadata": {}
  },
  {
   "cell_type": "code",
   "execution_count": 2,
   "source": [
    "import warnings\n",
    "warnings.filterwarnings('ignore',category=FutureWarning)\n",
    "import os\n",
    "os.environ[\"TF_CPP_MIN_LOG_LEVEL\"] = \"2\"\n",
    "from FINDER_API import FINDER_API\n",
    "from py_utils.FINDER_test_utils import *\n",
    "import os\n",
    "import tqdm\n",
    "import numpy as np\n"
   ],
   "outputs": [],
   "metadata": {}
  },
  {
   "cell_type": "markdown",
   "source": [
    "# Specify and load model"
   ],
   "metadata": {}
  },
  {
   "cell_type": "code",
   "execution_count": 3,
   "source": [
    "# model_path =  'best_models/tsp_2d/nrange_15_20_len_1011194/'\n",
    "# model_path =  'best_models/tsp_2d/nrange_15_20_len_1011362/'\n",
    "# model_path =  'best_models/tsp_2d/nrange_15_20_len_1009797/'\n",
    "# model_path = 'best_models/tsp_2d/nrange_15_20_len_1011914/'\n",
    "\n",
    "# insert function which automatically searches for best model with specified name\n",
    "model_name = 'AGNN_default_len_10113392076640768'\n",
    "model_name = 'AGNN_RNN_len_10117276006490983'\n",
    "model_name = 'AGNN_no_helperfunction_len_10488634773857972'\n",
    "model_name = 'AGNN_no_help_only_start_end_+_edge_prob_2021-09-01_08:31:56_len_100233'\n",
    "model_name = 'AGNN_no_help_only_start_end_+_edge_prob_+_unfixed_start_2021-09-08_17:31:23_len_100143'\n",
    "model_path = f'saved_models/tsp_2d/nrange_20_20/{model_name}'\n",
    "\n",
    "config_path = f'{model_path}/config.txt'\n",
    "api = FINDER_API(config_path=config_path)\n",
    "\n",
    "# get best checkpoint path\n",
    "best_ckpt_file_path = get_best_ckpt(model_path)\n",
    "# load checkpoint into Finder\n",
    "api.load_model(ckpt_path=best_ckpt_file_path)"
   ],
   "outputs": [
    {
     "output_type": "stream",
     "name": "stdout",
     "text": [
      "Gpu available: True\n",
      "Built with cuda: True\n",
      "model sucessfully restored from file\n"
     ]
    }
   ],
   "metadata": {
    "tags": []
   }
  },
  {
   "cell_type": "markdown",
   "source": [
    "# Specify test sets"
   ],
   "metadata": {}
  },
  {
   "cell_type": "code",
   "execution_count": 4,
   "source": [
    "# data_dir = 'test_sets/synthetic_nrange_10_20_1000/'\n",
    "# data_dir = 'test_sets/synthetic_nrange_15_20_1000/'\n",
    "# data_dir = 'test_sets/synthetic_nrange_40_50_1000/'\n",
    "# data_dir = 'valid_sets/synthetic_nrange_10_20_200/'\n",
    "# data_dir = 'valid_sets/synthetic_nrange_15_20_200/'\n",
    "# data_dir = 'data/test_sets/tsp_min-n=15_max-n=20_num-graph=1000_type=random/'\n",
    "# data_dir_0 = 'data/test_sets/tsp_min-n=15_max-n=20_num-graph=1000_type=random/'\n",
    "# data_dir_1 = 'data/test_sets/tsp_min-n=40_max-n=50_num-graph=1000_type=random/'\n",
    "# data_dir_2 = 'data/test_sets/tsp_min-n=50_max-n=100_num-graph=1000_type=random/'\n",
    "# data_dir_3 = 'data/test_sets/tsp_min-n=100_max-n=200_num-graph=1000_type=random/'\n",
    "data_dir_valid = 'data/valid_sets/synthetic_nrange_20_20_100'\n",
    "data_dir_0 = 'data/test_sets/synthetic_n_20_1000'\n",
    "data_dir_1 = 'data/test_sets/synthetic_n_50_1000'\n",
    "test_dirs = [data_dir_0, data_dir_1]"
   ],
   "outputs": [],
   "metadata": {}
  },
  {
   "cell_type": "markdown",
   "source": [
    "# Run tests"
   ],
   "metadata": {}
  },
  {
   "cell_type": "markdown",
   "source": [
    "## Run standard tests"
   ],
   "metadata": {}
  },
  {
   "cell_type": "code",
   "execution_count": 5,
   "source": [
    "search_strategy = 'greedy'"
   ],
   "outputs": [],
   "metadata": {}
  },
  {
   "cell_type": "code",
   "execution_count": 6,
   "source": [
    "# sanity check\n",
    "lengths, solutions, sol_times = api.run_test(data_dir_valid, scale_factor=0.000001)\n",
    "approx_ratios, mean_approx_ratio = get_approx_ratios(data_dir_valid, lengths)\n",
    "print(mean_approx_ratio)"
   ],
   "outputs": [
    {
     "output_type": "stream",
     "name": "stdout",
     "text": [
      "{'help_func': 0, 'reward_normalization': 'max', 'reward_sign': -1, 'fix_start_node': 0, 'net_type': 'AGNN', 'max_bp_iter': 3, 'aggregatorID': 1, 'node_init_dim': 6, 'edge_init_dim': 4, 'state_init_dim': 1, 'node_embed_dim': 64, 'edge_embed_dim': 64, 'embeddingMethod': 3, 'ignore_covered_edges': 0, 'selected_nodes_inclusion': 1, 'focus_start_end_node': 1, 'state_representation': 2, 'IsHuberloss': 0, 'BATCH_SIZE': 64, 'initialization_stddev': 0.01, 'MAX_ITERATION': 150000, 'LEARNING_RATE': 0.001, 'Alpha': 0.001, 'save_interval': 300, 'num_env': 1, 'dropout_rate': 0.0, 'g_type': 'tsp_2d', 'NUM_MIN': 20, 'NUM_MAX': 20, 'NN_ratio': 1.0, 'n_generator': 1000, 'train_path': 'data/train_sets/synthetic_n_20_50000', 'train_scale_fac': 1e-06, 'decoder': 1, 'REG_HIDDEN': 32, 'search_strategy': 'greedy', 'beam_width': 64, 'IsDoubleDQN': 0, 'N_STEP': 5, 'GAMMA': 1.0, 'UPDATE_TIME': 1000, 'eps_start': 1.0, 'eps_end': 0.05, 'eps_step': 10000.0, 'MEMORY_SIZE': 150000, 'one_step_encoding': 0, 'use_edge_probs': 1, 'valid_path': 'data/valid_sets/synthetic_nrange_20_20_100', 'valid_scale_fac': 1e-06, 'n_valid': 100, 'IsPrioritizedSampling': 0, 'epsilon': 1e-07, 'alpha': 0.6, 'beta': 0.4, 'beta_increment_per_sampling': 0.001, 'TD_err_upper': 1.0}\n",
      "Loading test graphs...\n"
     ]
    },
    {
     "output_type": "stream",
     "name": "stderr",
     "text": [
      "100%|██████████| 100/100 [00:00<00:00, 106.51it/s]\n",
      "100%|██████████| 100/100 [00:08<00:00, 11.39it/s]"
     ]
    },
    {
     "output_type": "stream",
     "name": "stdout",
     "text": [
      "1.0014311328687162\n"
     ]
    },
    {
     "output_type": "stream",
     "name": "stderr",
     "text": [
      "\n"
     ]
    }
   ],
   "metadata": {}
  },
  {
   "cell_type": "code",
   "execution_count": 8,
   "source": [
    "mean_approx_ratios = []\n",
    "for data_dir in test_dirs[:]:\n",
    "    # run test\n",
    "    lengths, solutions, sol_times = api.run_test(data_dir, scale_factor=0.000001)\n",
    "    approx_ratios, mean_approx_ratio = get_approx_ratios(data_dir, lengths)\n",
    "    mean_approx_ratios.append(mean_approx_ratio)\n",
    "    print(mean_approx_ratio)\n",
    "    # save test results\n",
    "    save_approx_ratios(data_dir, approx_ratios, model_name, suffix=search_strategy)\n",
    "    save_solutions(data_dir, solutions, model_name, suffix=search_strategy)\n",
    "    save_lengths(data_dir, lengths, model_name, suffix=search_strategy)"
   ],
   "outputs": [
    {
     "output_type": "stream",
     "name": "stdout",
     "text": [
      "{'help_func': 0, 'reward_normalization': 'max', 'reward_sign': -1, 'fix_start_node': 0, 'net_type': 'AGNN', 'max_bp_iter': 3, 'aggregatorID': 1, 'node_init_dim': 6, 'edge_init_dim': 4, 'state_init_dim': 1, 'node_embed_dim': 64, 'edge_embed_dim': 64, 'embeddingMethod': 3, 'ignore_covered_edges': 0, 'selected_nodes_inclusion': 1, 'focus_start_end_node': 1, 'state_representation': 2, 'IsHuberloss': 0, 'BATCH_SIZE': 64, 'initialization_stddev': 0.01, 'MAX_ITERATION': 150000, 'LEARNING_RATE': 0.001, 'Alpha': 0.001, 'save_interval': 300, 'num_env': 1, 'dropout_rate': 0.0, 'g_type': 'tsp_2d', 'NUM_MIN': 20, 'NUM_MAX': 20, 'NN_ratio': 1.0, 'n_generator': 1000, 'train_path': 'data/train_sets/synthetic_n_20_50000', 'train_scale_fac': 1e-06, 'decoder': 1, 'REG_HIDDEN': 32, 'search_strategy': 'greedy', 'beam_width': 64, 'IsDoubleDQN': 0, 'N_STEP': 5, 'GAMMA': 1.0, 'UPDATE_TIME': 1000, 'eps_start': 1.0, 'eps_end': 0.05, 'eps_step': 10000.0, 'MEMORY_SIZE': 150000, 'one_step_encoding': 0, 'use_edge_probs': 1, 'valid_path': 'data/valid_sets/synthetic_nrange_20_20_100', 'valid_scale_fac': 1e-06, 'n_valid': 100, 'IsPrioritizedSampling': 0, 'epsilon': 1e-07, 'alpha': 0.6, 'beta': 0.4, 'beta_increment_per_sampling': 0.001, 'TD_err_upper': 1.0}\n",
      "Loading test graphs...\n"
     ]
    },
    {
     "output_type": "stream",
     "name": "stderr",
     "text": [
      "100%|██████████| 1000/1000 [00:05<00:00, 170.81it/s]\n",
      "100%|██████████| 1000/1000 [01:20<00:00, 12.35it/s]\n"
     ]
    },
    {
     "output_type": "stream",
     "name": "stdout",
     "text": [
      "1.004887517541366\n",
      "Saving approximation ratios...\n"
     ]
    },
    {
     "output_type": "stream",
     "name": "stderr",
     "text": [
      "100%|██████████| 1000/1000 [00:08<00:00, 119.66it/s]\n"
     ]
    },
    {
     "output_type": "stream",
     "name": "stdout",
     "text": [
      "Saving solutions...\n"
     ]
    },
    {
     "output_type": "stream",
     "name": "stderr",
     "text": [
      "100%|██████████| 1000/1000 [00:08<00:00, 115.19it/s]\n"
     ]
    },
    {
     "output_type": "stream",
     "name": "stdout",
     "text": [
      "Saving solution lengths...\n"
     ]
    },
    {
     "output_type": "stream",
     "name": "stderr",
     "text": [
      "100%|██████████| 1000/1000 [00:08<00:00, 120.71it/s]\n"
     ]
    },
    {
     "output_type": "stream",
     "name": "stdout",
     "text": [
      "{'help_func': 0, 'reward_normalization': 'max', 'reward_sign': -1, 'fix_start_node': 0, 'net_type': 'AGNN', 'max_bp_iter': 3, 'aggregatorID': 1, 'node_init_dim': 6, 'edge_init_dim': 4, 'state_init_dim': 1, 'node_embed_dim': 64, 'edge_embed_dim': 64, 'embeddingMethod': 3, 'ignore_covered_edges': 0, 'selected_nodes_inclusion': 1, 'focus_start_end_node': 1, 'state_representation': 2, 'IsHuberloss': 0, 'BATCH_SIZE': 64, 'initialization_stddev': 0.01, 'MAX_ITERATION': 150000, 'LEARNING_RATE': 0.001, 'Alpha': 0.001, 'save_interval': 300, 'num_env': 1, 'dropout_rate': 0.0, 'g_type': 'tsp_2d', 'NUM_MIN': 20, 'NUM_MAX': 20, 'NN_ratio': 1.0, 'n_generator': 1000, 'train_path': 'data/train_sets/synthetic_n_20_50000', 'train_scale_fac': 1e-06, 'decoder': 1, 'REG_HIDDEN': 32, 'search_strategy': 'greedy', 'beam_width': 64, 'IsDoubleDQN': 0, 'N_STEP': 5, 'GAMMA': 1.0, 'UPDATE_TIME': 1000, 'eps_start': 1.0, 'eps_end': 0.05, 'eps_step': 10000.0, 'MEMORY_SIZE': 150000, 'one_step_encoding': 0, 'use_edge_probs': 1, 'valid_path': 'data/valid_sets/synthetic_nrange_20_20_100', 'valid_scale_fac': 1e-06, 'n_valid': 100, 'IsPrioritizedSampling': 0, 'epsilon': 1e-07, 'alpha': 0.6, 'beta': 0.4, 'beta_increment_per_sampling': 0.001, 'TD_err_upper': 1.0}\n",
      "Loading test graphs...\n"
     ]
    },
    {
     "output_type": "stream",
     "name": "stderr",
     "text": [
      "100%|██████████| 1000/1000 [00:31<00:00, 31.38it/s]\n",
      "100%|██████████| 1000/1000 [06:03<00:00,  2.75it/s]\n"
     ]
    },
    {
     "output_type": "stream",
     "name": "stdout",
     "text": [
      "1.2230999456813945\n",
      "Saving approximation ratios...\n"
     ]
    },
    {
     "output_type": "stream",
     "name": "stderr",
     "text": [
      "100%|██████████| 1000/1000 [00:08<00:00, 120.47it/s]\n"
     ]
    },
    {
     "output_type": "stream",
     "name": "stdout",
     "text": [
      "Saving solutions...\n"
     ]
    },
    {
     "output_type": "stream",
     "name": "stderr",
     "text": [
      "100%|██████████| 1000/1000 [00:08<00:00, 119.31it/s]\n"
     ]
    },
    {
     "output_type": "stream",
     "name": "stdout",
     "text": [
      "Saving solution lengths...\n"
     ]
    },
    {
     "output_type": "stream",
     "name": "stderr",
     "text": [
      "100%|██████████| 1000/1000 [00:08<00:00, 120.72it/s]\n"
     ]
    }
   ],
   "metadata": {}
  },
  {
   "cell_type": "markdown",
   "source": [
    "## Run tests with non-greedy search strategy\n"
   ],
   "metadata": {}
  },
  {
   "cell_type": "code",
   "execution_count": 6,
   "source": [
    "# use beam search during testing\n",
    "search_strategy = 'beam_search+'\n",
    "beam_width = 128\n",
    "batch_size = 128\n",
    "\n",
    "api.DQN.cfg['search_strategy'] = search_strategy\n",
    "api.DQN.cfg['beam_width'] = beam_width\n",
    "api.DQN.cfg['BATCH_SIZE'] = batch_size\n",
    "\n",
    "suffix = f'{search_strategy}_{beam_width}'"
   ],
   "outputs": [],
   "metadata": {}
  },
  {
   "cell_type": "code",
   "execution_count": 7,
   "source": [
    "# sanity check\n",
    "lengths, solutions, sol_times = api.run_test(data_dir_valid, scale_factor=0.000001)\n",
    "approx_ratios, mean_approx_ratio = get_approx_ratios(data_dir_valid, lengths)\n",
    "print(mean_approx_ratio)"
   ],
   "outputs": [
    {
     "output_type": "stream",
     "name": "stdout",
     "text": [
      "{'help_func': 0, 'reward_normalization': 'max', 'reward_sign': -1, 'fix_start_node': 0, 'net_type': 'AGNN', 'max_bp_iter': 3, 'aggregatorID': 1, 'node_init_dim': 6, 'edge_init_dim': 4, 'state_init_dim': 1, 'node_embed_dim': 64, 'edge_embed_dim': 64, 'embeddingMethod': 3, 'ignore_covered_edges': 0, 'selected_nodes_inclusion': 1, 'focus_start_end_node': 1, 'state_representation': 2, 'IsHuberloss': 0, 'BATCH_SIZE': 128, 'initialization_stddev': 0.01, 'MAX_ITERATION': 150000, 'LEARNING_RATE': 0.001, 'Alpha': 0.001, 'save_interval': 300, 'num_env': 1, 'dropout_rate': 0.0, 'g_type': 'tsp_2d', 'NUM_MIN': 20, 'NUM_MAX': 20, 'NN_ratio': 1.0, 'n_generator': 1000, 'train_path': 'data/train_sets/synthetic_n_20_50000', 'train_scale_fac': 1e-06, 'decoder': 1, 'REG_HIDDEN': 32, 'search_strategy': 'beam_search+', 'beam_width': 128, 'IsDoubleDQN': 0, 'N_STEP': 5, 'GAMMA': 1.0, 'UPDATE_TIME': 1000, 'eps_start': 1.0, 'eps_end': 0.05, 'eps_step': 10000.0, 'MEMORY_SIZE': 150000, 'one_step_encoding': 0, 'use_edge_probs': 1, 'valid_path': 'data/valid_sets/synthetic_nrange_20_20_100', 'valid_scale_fac': 1e-06, 'n_valid': 100, 'IsPrioritizedSampling': 0, 'epsilon': 1e-07, 'alpha': 0.6, 'beta': 0.4, 'beta_increment_per_sampling': 0.001, 'TD_err_upper': 1.0}\n",
      "Loading test graphs...\n"
     ]
    },
    {
     "output_type": "stream",
     "name": "stderr",
     "text": [
      "100%|██████████| 100/100 [00:00<00:00, 130.00it/s]\n",
      "  3%|▎         | 3/100 [00:11<06:01,  3.73s/it]\n"
     ]
    },
    {
     "output_type": "error",
     "ename": "KeyboardInterrupt",
     "evalue": "",
     "traceback": [
      "\u001b[0;31m---------------------------------------------------------------------------\u001b[0m",
      "\u001b[0;31mKeyboardInterrupt\u001b[0m                         Traceback (most recent call last)",
      "\u001b[0;32m/tmp/ipykernel_614/1818455150.py\u001b[0m in \u001b[0;36m<module>\u001b[0;34m\u001b[0m\n\u001b[1;32m      1\u001b[0m \u001b[0;31m# sanity check\u001b[0m\u001b[0;34m\u001b[0m\u001b[0;34m\u001b[0m\u001b[0;34m\u001b[0m\u001b[0m\n\u001b[0;32m----> 2\u001b[0;31m \u001b[0mlengths\u001b[0m\u001b[0;34m,\u001b[0m \u001b[0msolutions\u001b[0m\u001b[0;34m,\u001b[0m \u001b[0msol_times\u001b[0m \u001b[0;34m=\u001b[0m \u001b[0mapi\u001b[0m\u001b[0;34m.\u001b[0m\u001b[0mrun_test\u001b[0m\u001b[0;34m(\u001b[0m\u001b[0mdata_dir_valid\u001b[0m\u001b[0;34m,\u001b[0m \u001b[0mscale_factor\u001b[0m\u001b[0;34m=\u001b[0m\u001b[0;36m0.000001\u001b[0m\u001b[0;34m)\u001b[0m\u001b[0;34m\u001b[0m\u001b[0;34m\u001b[0m\u001b[0m\n\u001b[0m\u001b[1;32m      3\u001b[0m \u001b[0mapprox_ratios\u001b[0m\u001b[0;34m,\u001b[0m \u001b[0mmean_approx_ratio\u001b[0m \u001b[0;34m=\u001b[0m \u001b[0mget_approx_ratios\u001b[0m\u001b[0;34m(\u001b[0m\u001b[0mdata_dir_valid\u001b[0m\u001b[0;34m,\u001b[0m \u001b[0mlengths\u001b[0m\u001b[0;34m)\u001b[0m\u001b[0;34m\u001b[0m\u001b[0;34m\u001b[0m\u001b[0m\n\u001b[1;32m      4\u001b[0m \u001b[0mprint\u001b[0m\u001b[0;34m(\u001b[0m\u001b[0mmean_approx_ratio\u001b[0m\u001b[0;34m)\u001b[0m\u001b[0;34m\u001b[0m\u001b[0;34m\u001b[0m\u001b[0m\n",
      "\u001b[0;32m/home/FINDER-TSP/FINDER_API.pyx\u001b[0m in \u001b[0;36mFINDER_API.FINDER_API.run_test\u001b[0;34m()\u001b[0m\n\u001b[1;32m    202\u001b[0m     \u001b[0;32mdef\u001b[0m \u001b[0mrun_test\u001b[0m\u001b[0;34m(\u001b[0m\u001b[0mself\u001b[0m\u001b[0;34m,\u001b[0m \u001b[0mtest_dir\u001b[0m\u001b[0;34m,\u001b[0m \u001b[0mgraph_list\u001b[0m\u001b[0;34m=\u001b[0m\u001b[0;32mNone\u001b[0m\u001b[0;34m,\u001b[0m \u001b[0mscale_factor\u001b[0m\u001b[0;34m=\u001b[0m\u001b[0;36m0.000001\u001b[0m\u001b[0;34m)\u001b[0m\u001b[0;34m:\u001b[0m\u001b[0;34m\u001b[0m\u001b[0;34m\u001b[0m\u001b[0m\n\u001b[1;32m    203\u001b[0m         \u001b[0mprint\u001b[0m\u001b[0;34m(\u001b[0m\u001b[0mself\u001b[0m\u001b[0;34m.\u001b[0m\u001b[0mcfg\u001b[0m\u001b[0;34m)\u001b[0m\u001b[0;34m\u001b[0m\u001b[0;34m\u001b[0m\u001b[0m\n\u001b[0;32m--> 204\u001b[0;31m         \u001b[0mlengths\u001b[0m\u001b[0;34m,\u001b[0m \u001b[0msolutions\u001b[0m\u001b[0;34m,\u001b[0m \u001b[0msol_times\u001b[0m \u001b[0;34m=\u001b[0m \u001b[0mself\u001b[0m\u001b[0;34m.\u001b[0m\u001b[0mDQN\u001b[0m\u001b[0;34m.\u001b[0m\u001b[0mEvaluate\u001b[0m\u001b[0;34m(\u001b[0m\u001b[0mtest_dir\u001b[0m\u001b[0;34m=\u001b[0m\u001b[0mtest_dir\u001b[0m\u001b[0;34m,\u001b[0m \u001b[0mscale_factor\u001b[0m\u001b[0;34m=\u001b[0m\u001b[0mscale_factor\u001b[0m\u001b[0;34m)\u001b[0m\u001b[0;34m\u001b[0m\u001b[0;34m\u001b[0m\u001b[0m\n\u001b[0m\u001b[1;32m    205\u001b[0m         \u001b[0;32mreturn\u001b[0m \u001b[0mlengths\u001b[0m\u001b[0;34m,\u001b[0m \u001b[0msolutions\u001b[0m\u001b[0;34m,\u001b[0m \u001b[0msol_times\u001b[0m\u001b[0;34m\u001b[0m\u001b[0;34m\u001b[0m\u001b[0m\n\u001b[1;32m    206\u001b[0m \u001b[0;34m\u001b[0m\u001b[0m\n",
      "\u001b[0;32m/home/FINDER-TSP/FINDER.pyx\u001b[0m in \u001b[0;36mFINDER.FINDER.Evaluate\u001b[0;34m()\u001b[0m\n\u001b[1;32m    995\u001b[0m         \u001b[0msolutions\u001b[0m \u001b[0;34m=\u001b[0m \u001b[0;34m[\u001b[0m\u001b[0;34m]\u001b[0m\u001b[0;34m\u001b[0m\u001b[0;34m\u001b[0m\u001b[0m\n\u001b[1;32m    996\u001b[0m         \u001b[0msol_times\u001b[0m \u001b[0;34m=\u001b[0m \u001b[0;34m[\u001b[0m\u001b[0;34m]\u001b[0m\u001b[0;34m\u001b[0m\u001b[0;34m\u001b[0m\u001b[0m\n\u001b[0;32m--> 997\u001b[0;31m         \u001b[0;32mfor\u001b[0m \u001b[0midx\u001b[0m \u001b[0;32min\u001b[0m \u001b[0mtqdm\u001b[0m\u001b[0;34m(\u001b[0m\u001b[0mrange\u001b[0m\u001b[0;34m(\u001b[0m\u001b[0mlen\u001b[0m\u001b[0;34m(\u001b[0m\u001b[0mg_list\u001b[0m\u001b[0;34m)\u001b[0m\u001b[0;34m)\u001b[0m\u001b[0;34m)\u001b[0m\u001b[0;34m:\u001b[0m\u001b[0;34m\u001b[0m\u001b[0;34m\u001b[0m\u001b[0m\n\u001b[0m\u001b[1;32m    998\u001b[0m             \u001b[0mt1\u001b[0m \u001b[0;34m=\u001b[0m \u001b[0mtime\u001b[0m\u001b[0;34m.\u001b[0m\u001b[0mtime\u001b[0m\u001b[0;34m(\u001b[0m\u001b[0;34m)\u001b[0m\u001b[0;34m\u001b[0m\u001b[0;34m\u001b[0m\u001b[0m\n\u001b[1;32m    999\u001b[0m             \u001b[0mlength\u001b[0m\u001b[0;34m,\u001b[0m \u001b[0msol\u001b[0m \u001b[0;34m=\u001b[0m \u001b[0mself\u001b[0m\u001b[0;34m.\u001b[0m\u001b[0mTest\u001b[0m\u001b[0;34m(\u001b[0m\u001b[0midx\u001b[0m\u001b[0;34m)\u001b[0m\u001b[0;34m\u001b[0m\u001b[0;34m\u001b[0m\u001b[0m\n",
      "\u001b[0;32m/home/FINDER-TSP/FINDER.pyx\u001b[0m in \u001b[0;36mFINDER.FINDER.Test\u001b[0;34m()\u001b[0m\n\u001b[1;32m    468\u001b[0m \u001b[0;34m\u001b[0m\u001b[0m\n\u001b[1;32m    469\u001b[0m         \u001b[0;32mif\u001b[0m \u001b[0mself\u001b[0m\u001b[0;34m.\u001b[0m\u001b[0mcfg\u001b[0m\u001b[0;34m[\u001b[0m\u001b[0;34m'search_strategy'\u001b[0m\u001b[0;34m]\u001b[0m \u001b[0;34m==\u001b[0m \u001b[0;34m'beam_search+'\u001b[0m\u001b[0;34m:\u001b[0m\u001b[0;34m\u001b[0m\u001b[0;34m\u001b[0m\u001b[0m\n\u001b[0;32m--> 470\u001b[0;31m             \u001b[0msol\u001b[0m\u001b[0;34m=\u001b[0m \u001b[0mself\u001b[0m\u001b[0;34m.\u001b[0m\u001b[0msolve_with_beam_search\u001b[0m\u001b[0;34m(\u001b[0m\u001b[0mgraph\u001b[0m\u001b[0;34m=\u001b[0m\u001b[0mgraph\u001b[0m\u001b[0;34m,\u001b[0m \u001b[0mselect_true_best\u001b[0m\u001b[0;34m=\u001b[0m\u001b[0;32mTrue\u001b[0m\u001b[0;34m)\u001b[0m\u001b[0;34m\u001b[0m\u001b[0;34m\u001b[0m\u001b[0m\n\u001b[0m\u001b[1;32m    471\u001b[0m         \u001b[0;32melif\u001b[0m \u001b[0mself\u001b[0m\u001b[0;34m.\u001b[0m\u001b[0mcfg\u001b[0m\u001b[0;34m[\u001b[0m\u001b[0;34m'search_strategy'\u001b[0m\u001b[0;34m]\u001b[0m \u001b[0;34m==\u001b[0m \u001b[0;34m'beam_search'\u001b[0m\u001b[0;34m:\u001b[0m\u001b[0;34m\u001b[0m\u001b[0;34m\u001b[0m\u001b[0m\n\u001b[1;32m    472\u001b[0m             \u001b[0msol\u001b[0m \u001b[0;34m=\u001b[0m \u001b[0mself\u001b[0m\u001b[0;34m.\u001b[0m\u001b[0msolve_with_beam_search\u001b[0m\u001b[0;34m(\u001b[0m\u001b[0mgraph\u001b[0m\u001b[0;34m=\u001b[0m\u001b[0mgraph\u001b[0m\u001b[0;34m,\u001b[0m \u001b[0mselect_true_best\u001b[0m\u001b[0;34m=\u001b[0m\u001b[0;32mFalse\u001b[0m\u001b[0;34m)\u001b[0m\u001b[0;34m\u001b[0m\u001b[0;34m\u001b[0m\u001b[0m\n",
      "\u001b[0;32m/home/FINDER-TSP/FINDER.pyx\u001b[0m in \u001b[0;36mFINDER.FINDER.solve_with_beam_search\u001b[0;34m()\u001b[0m\n\u001b[1;32m    544\u001b[0m             \u001b[0;32melse\u001b[0m\u001b[0;34m:\u001b[0m\u001b[0;34m\u001b[0m\u001b[0;34m\u001b[0m\u001b[0m\n\u001b[1;32m    545\u001b[0m                 \u001b[0mlist_pred\u001b[0m \u001b[0;34m=\u001b[0m \u001b[0mself\u001b[0m\u001b[0;34m.\u001b[0m\u001b[0mPredict\u001b[0m\u001b[0;34m(\u001b[0m\u001b[0mg_list\u001b[0m\u001b[0;34m,\u001b[0m \u001b[0menv_states\u001b[0m\u001b[0;34m,\u001b[0m \u001b[0misSnapShot\u001b[0m\u001b[0;34m=\u001b[0m\u001b[0;32mFalse\u001b[0m\u001b[0;34m,\u001b[0m \u001b[0minitPred\u001b[0m\u001b[0;34m=\u001b[0m\u001b[0;32mFalse\u001b[0m\u001b[0;34m,\u001b[0m \u001b[0mtest\u001b[0m\u001b[0;34m=\u001b[0m\u001b[0;32mFalse\u001b[0m\u001b[0;34m)\u001b[0m\u001b[0;34m\u001b[0m\u001b[0;34m\u001b[0m\u001b[0m\n\u001b[0;32m--> 546\u001b[0;31m \u001b[0;34m\u001b[0m\u001b[0m\n\u001b[0m\u001b[1;32m    547\u001b[0m \u001b[0;34m\u001b[0m\u001b[0m\n\u001b[1;32m    548\u001b[0m             \u001b[0mprobabilities_list\u001b[0m \u001b[0;34m=\u001b[0m \u001b[0;34m[\u001b[0m\u001b[0mself\u001b[0m\u001b[0;34m.\u001b[0m\u001b[0msoftmax\u001b[0m\u001b[0;34m(\u001b[0m\u001b[0mq_values\u001b[0m\u001b[0;34m)\u001b[0m \u001b[0;32mfor\u001b[0m \u001b[0mq_values\u001b[0m \u001b[0;32min\u001b[0m \u001b[0mlist_pred\u001b[0m\u001b[0;34m]\u001b[0m\u001b[0;34m\u001b[0m\u001b[0;34m\u001b[0m\u001b[0m\n",
      "\u001b[0;32m/home/FINDER-TSP/FINDER.pyx\u001b[0m in \u001b[0;36mFINDER.FINDER.Predict\u001b[0;34m()\u001b[0m\n\u001b[1;32m    616\u001b[0m             \u001b[0;32mfor\u001b[0m \u001b[0mj\u001b[0m \u001b[0;32min\u001b[0m \u001b[0mrange\u001b[0m\u001b[0;34m(\u001b[0m\u001b[0mi\u001b[0m\u001b[0;34m,\u001b[0m \u001b[0mi\u001b[0m \u001b[0;34m+\u001b[0m \u001b[0mbsize\u001b[0m\u001b[0;34m)\u001b[0m\u001b[0;34m:\u001b[0m\u001b[0;34m\u001b[0m\u001b[0;34m\u001b[0m\u001b[0m\n\u001b[1;32m    617\u001b[0m                 \u001b[0mbatch_idxes\u001b[0m\u001b[0;34m[\u001b[0m\u001b[0mj\u001b[0m \u001b[0;34m-\u001b[0m \u001b[0mi\u001b[0m\u001b[0;34m]\u001b[0m \u001b[0;34m=\u001b[0m \u001b[0mj\u001b[0m\u001b[0;34m\u001b[0m\u001b[0;34m\u001b[0m\u001b[0m\n\u001b[0;32m--> 618\u001b[0;31m             \u001b[0mbatch_idxes\u001b[0m \u001b[0;34m=\u001b[0m \u001b[0mnp\u001b[0m\u001b[0;34m.\u001b[0m\u001b[0mint32\u001b[0m\u001b[0;34m(\u001b[0m\u001b[0mbatch_idxes\u001b[0m\u001b[0;34m)\u001b[0m\u001b[0;34m\u001b[0m\u001b[0;34m\u001b[0m\u001b[0m\n\u001b[0m\u001b[1;32m    619\u001b[0m \u001b[0;34m\u001b[0m\u001b[0m\n\u001b[1;32m    620\u001b[0m             \u001b[0midx_map_list\u001b[0m \u001b[0;34m=\u001b[0m \u001b[0mself\u001b[0m\u001b[0;34m.\u001b[0m\u001b[0mSetupPredAll\u001b[0m\u001b[0;34m(\u001b[0m\u001b[0mbatch_idxes\u001b[0m\u001b[0;34m,\u001b[0m \u001b[0mg_list\u001b[0m\u001b[0;34m,\u001b[0m \u001b[0mcovered\u001b[0m\u001b[0;34m)\u001b[0m\u001b[0;34m\u001b[0m\u001b[0;34m\u001b[0m\u001b[0m\n",
      "\u001b[0;32m/home/FINDER-TSP/FINDER.pyx\u001b[0m in \u001b[0;36mFINDER.FINDER.SetupPredAll\u001b[0;34m()\u001b[0m\n\u001b[1;32m    747\u001b[0m         \u001b[0;31m# print(\"Ran SetupPredAll\")\u001b[0m\u001b[0;34m\u001b[0m\u001b[0;34m\u001b[0m\u001b[0;34m\u001b[0m\u001b[0m\n\u001b[1;32m    748\u001b[0m \u001b[0;34m\u001b[0m\u001b[0m\n\u001b[0;32m--> 749\u001b[0;31m         \u001b[0mself\u001b[0m\u001b[0;34m.\u001b[0m\u001b[0minputs\u001b[0m \u001b[0;34m=\u001b[0m \u001b[0mdict\u001b[0m\u001b[0;34m(\u001b[0m\u001b[0;34m)\u001b[0m\u001b[0;34m\u001b[0m\u001b[0;34m\u001b[0m\u001b[0m\n\u001b[0m\u001b[1;32m    750\u001b[0m         \u001b[0mself\u001b[0m\u001b[0;34m.\u001b[0m\u001b[0minputs\u001b[0m\u001b[0;34m[\u001b[0m\u001b[0;34m'is_training'\u001b[0m\u001b[0;34m]\u001b[0m \u001b[0;34m=\u001b[0m \u001b[0;32mFalse\u001b[0m\u001b[0;34m\u001b[0m\u001b[0;34m\u001b[0m\u001b[0m\n\u001b[1;32m    751\u001b[0m         \u001b[0mself\u001b[0m\u001b[0;34m.\u001b[0m\u001b[0mprepare_external_inputs\u001b[0m\u001b[0;34m(\u001b[0m\u001b[0mprepareBatchGraph\u001b[0m\u001b[0;34m)\u001b[0m\u001b[0;34m\u001b[0m\u001b[0;34m\u001b[0m\u001b[0m\n",
      "\u001b[0;32m/home/FINDER-TSP/FINDER.pyx\u001b[0m in \u001b[0;36mFINDER.FINDER.prepare_external_inputs\u001b[0;34m()\u001b[0m\n\u001b[1;32m    683\u001b[0m         \u001b[0;32mreturn\u001b[0m \u001b[0mfull_pred\u001b[0m\u001b[0;34m\u001b[0m\u001b[0;34m\u001b[0m\u001b[0m\n\u001b[1;32m    684\u001b[0m \u001b[0;34m\u001b[0m\u001b[0m\n\u001b[0;32m--> 685\u001b[0;31m     \u001b[0;32mdef\u001b[0m \u001b[0mprepare_external_inputs\u001b[0m\u001b[0;34m(\u001b[0m\u001b[0mself\u001b[0m\u001b[0;34m,\u001b[0m \u001b[0mprepareBatchGraph\u001b[0m\u001b[0;34m)\u001b[0m\u001b[0;34m:\u001b[0m\u001b[0;34m\u001b[0m\u001b[0;34m\u001b[0m\u001b[0m\n\u001b[0m\u001b[1;32m    686\u001b[0m \u001b[0;34m\u001b[0m\u001b[0m\n\u001b[1;32m    687\u001b[0m         \u001b[0mself\u001b[0m\u001b[0;34m.\u001b[0m\u001b[0minputs\u001b[0m\u001b[0;34m[\u001b[0m\u001b[0;34m'action_select'\u001b[0m\u001b[0;34m]\u001b[0m \u001b[0;34m=\u001b[0m \u001b[0mprepareBatchGraph\u001b[0m\u001b[0;34m.\u001b[0m\u001b[0mact_select\u001b[0m\u001b[0;34m\u001b[0m\u001b[0;34m\u001b[0m\u001b[0m\n",
      "\u001b[0;32m/home/FINDER-TSP/PrepareBatchGraph.pyx\u001b[0m in \u001b[0;36mPrepareBatchGraph.py_PrepareBatchGraph.act_select.__get__\u001b[0;34m()\u001b[0m\n\u001b[1;32m     86\u001b[0m     \u001b[0;32mdef\u001b[0m \u001b[0mact_select\u001b[0m\u001b[0;34m(\u001b[0m\u001b[0mself\u001b[0m\u001b[0;34m)\u001b[0m\u001b[0;34m:\u001b[0m\u001b[0;34m\u001b[0m\u001b[0;34m\u001b[0m\u001b[0m\n\u001b[1;32m     87\u001b[0m         \u001b[0mself\u001b[0m\u001b[0;34m.\u001b[0m\u001b[0mmatrix\u001b[0m \u001b[0;34m=\u001b[0m \u001b[0mderef\u001b[0m\u001b[0;34m(\u001b[0m\u001b[0mderef\u001b[0m\u001b[0;34m(\u001b[0m\u001b[0mself\u001b[0m\u001b[0;34m.\u001b[0m\u001b[0minner_PrepareBatchGraph\u001b[0m\u001b[0;34m)\u001b[0m\u001b[0;34m.\u001b[0m\u001b[0mact_select\u001b[0m\u001b[0;34m)\u001b[0m\u001b[0;34m\u001b[0m\u001b[0;34m\u001b[0m\u001b[0m\n\u001b[0;32m---> 88\u001b[0;31m         \u001b[0;32mreturn\u001b[0m \u001b[0mself\u001b[0m\u001b[0;34m.\u001b[0m\u001b[0mConvertSparseToTensor\u001b[0m\u001b[0;34m(\u001b[0m\u001b[0mself\u001b[0m\u001b[0;34m.\u001b[0m\u001b[0mmatrix\u001b[0m\u001b[0;34m)\u001b[0m\u001b[0;34m\u001b[0m\u001b[0;34m\u001b[0m\u001b[0m\n\u001b[0m\u001b[1;32m     89\u001b[0m     \u001b[0;34m@\u001b[0m\u001b[0mproperty\u001b[0m\u001b[0;34m\u001b[0m\u001b[0;34m\u001b[0m\u001b[0m\n\u001b[1;32m     90\u001b[0m     \u001b[0;32mdef\u001b[0m \u001b[0mrep_global\u001b[0m\u001b[0;34m(\u001b[0m\u001b[0mself\u001b[0m\u001b[0;34m)\u001b[0m\u001b[0;34m:\u001b[0m\u001b[0;34m\u001b[0m\u001b[0;34m\u001b[0m\u001b[0m\n",
      "\u001b[0;32m/home/FINDER-TSP/PrepareBatchGraph.pyx\u001b[0m in \u001b[0;36mPrepareBatchGraph.py_PrepareBatchGraph.ConvertSparseToTensor\u001b[0;34m()\u001b[0m\n\u001b[1;32m    170\u001b[0m         \u001b[0mrowNum\u001b[0m \u001b[0;34m=\u001b[0m \u001b[0mmatrix\u001b[0m\u001b[0;34m.\u001b[0m\u001b[0mrowNum\u001b[0m\u001b[0;34m\u001b[0m\u001b[0;34m\u001b[0m\u001b[0m\n\u001b[1;32m    171\u001b[0m         \u001b[0mcolNum\u001b[0m \u001b[0;34m=\u001b[0m \u001b[0mmatrix\u001b[0m\u001b[0;34m.\u001b[0m\u001b[0mcolNum\u001b[0m\u001b[0;34m\u001b[0m\u001b[0;34m\u001b[0m\u001b[0m\n\u001b[0;32m--> 172\u001b[0;31m         \u001b[0mindices\u001b[0m \u001b[0;34m=\u001b[0m \u001b[0mnp\u001b[0m\u001b[0;34m.\u001b[0m\u001b[0mmat\u001b[0m\u001b[0;34m(\u001b[0m\u001b[0;34m[\u001b[0m\u001b[0mrowIndex\u001b[0m\u001b[0;34m,\u001b[0m \u001b[0mcolIndex\u001b[0m\u001b[0;34m]\u001b[0m\u001b[0;34m)\u001b[0m\u001b[0;34m.\u001b[0m\u001b[0mtranspose\u001b[0m\u001b[0;34m(\u001b[0m\u001b[0;34m)\u001b[0m\u001b[0;34m\u001b[0m\u001b[0;34m\u001b[0m\u001b[0m\n\u001b[0m\u001b[1;32m    173\u001b[0m         \u001b[0;32mreturn\u001b[0m \u001b[0mtf\u001b[0m\u001b[0;34m.\u001b[0m\u001b[0mSparseTensorValue\u001b[0m\u001b[0;34m(\u001b[0m\u001b[0mindices\u001b[0m\u001b[0;34m,\u001b[0m \u001b[0mdata\u001b[0m\u001b[0;34m,\u001b[0m \u001b[0;34m(\u001b[0m\u001b[0mrowNum\u001b[0m\u001b[0;34m,\u001b[0m\u001b[0mcolNum\u001b[0m\u001b[0;34m)\u001b[0m\u001b[0;34m)\u001b[0m\u001b[0;34m\u001b[0m\u001b[0;34m\u001b[0m\u001b[0m\n\u001b[1;32m    174\u001b[0m \u001b[0;34m\u001b[0m\u001b[0m\n",
      "\u001b[0;32m~/miniconda3/envs/FINDER_env/lib/python3.7/site-packages/numpy/matrixlib/defmatrix.py\u001b[0m in \u001b[0;36masmatrix\u001b[0;34m(data, dtype)\u001b[0m\n\u001b[1;32m     34\u001b[0m \u001b[0;34m\u001b[0m\u001b[0m\n\u001b[1;32m     35\u001b[0m \u001b[0;34m\u001b[0m\u001b[0m\n\u001b[0;32m---> 36\u001b[0;31m \u001b[0;34m@\u001b[0m\u001b[0mset_module\u001b[0m\u001b[0;34m(\u001b[0m\u001b[0;34m'numpy'\u001b[0m\u001b[0;34m)\u001b[0m\u001b[0;34m\u001b[0m\u001b[0;34m\u001b[0m\u001b[0m\n\u001b[0m\u001b[1;32m     37\u001b[0m \u001b[0;32mdef\u001b[0m \u001b[0masmatrix\u001b[0m\u001b[0;34m(\u001b[0m\u001b[0mdata\u001b[0m\u001b[0;34m,\u001b[0m \u001b[0mdtype\u001b[0m\u001b[0;34m=\u001b[0m\u001b[0;32mNone\u001b[0m\u001b[0;34m)\u001b[0m\u001b[0;34m:\u001b[0m\u001b[0;34m\u001b[0m\u001b[0;34m\u001b[0m\u001b[0m\n\u001b[1;32m     38\u001b[0m     \"\"\"\n",
      "\u001b[0;31mKeyboardInterrupt\u001b[0m: "
     ]
    }
   ],
   "metadata": {}
  },
  {
   "cell_type": "code",
   "execution_count": 8,
   "source": [
    "mean_approx_ratios = []\n",
    "for data_dir in test_dirs[0:1]:\n",
    "    # run test\n",
    "    lengths, solutions, sol_times = api.run_test(data_dir, scale_factor=0.000001)\n",
    "    approx_ratios, mean_approx_ratio = get_approx_ratios(data_dir, lengths)\n",
    "    mean_approx_ratios.append(mean_approx_ratio)\n",
    "    print(mean_approx_ratio)\n",
    "    # save test results\n",
    "    save_approx_ratios(data_dir, approx_ratios, model_name, suffix=search_strategy)\n",
    "    save_solutions(data_dir, solutions, model_name, suffix=search_strategy)\n",
    "    save_lengths(data_dir, lengths, model_name, suffix=search_strategy)"
   ],
   "outputs": [
    {
     "output_type": "stream",
     "name": "stdout",
     "text": [
      "{'help_func': 0, 'reward_normalization': 'max', 'reward_sign': -1, 'fix_start_node': 0, 'net_type': 'AGNN', 'max_bp_iter': 3, 'aggregatorID': 1, 'node_init_dim': 6, 'edge_init_dim': 4, 'state_init_dim': 1, 'node_embed_dim': 64, 'edge_embed_dim': 64, 'embeddingMethod': 3, 'ignore_covered_edges': 0, 'selected_nodes_inclusion': 1, 'focus_start_end_node': 1, 'state_representation': 2, 'IsHuberloss': 0, 'BATCH_SIZE': 128, 'initialization_stddev': 0.01, 'MAX_ITERATION': 150000, 'LEARNING_RATE': 0.001, 'Alpha': 0.001, 'save_interval': 300, 'num_env': 1, 'dropout_rate': 0.0, 'g_type': 'tsp_2d', 'NUM_MIN': 20, 'NUM_MAX': 20, 'NN_ratio': 1.0, 'n_generator': 1000, 'train_path': 'data/train_sets/synthetic_n_20_50000', 'train_scale_fac': 1e-06, 'decoder': 1, 'REG_HIDDEN': 32, 'search_strategy': 'beam_search+', 'beam_width': 128, 'IsDoubleDQN': 0, 'N_STEP': 5, 'GAMMA': 1.0, 'UPDATE_TIME': 1000, 'eps_start': 1.0, 'eps_end': 0.05, 'eps_step': 10000.0, 'MEMORY_SIZE': 150000, 'one_step_encoding': 0, 'use_edge_probs': 1, 'valid_path': 'data/valid_sets/synthetic_nrange_20_20_100', 'valid_scale_fac': 1e-06, 'n_valid': 100, 'IsPrioritizedSampling': 0, 'epsilon': 1e-07, 'alpha': 0.6, 'beta': 0.4, 'beta_increment_per_sampling': 0.001, 'TD_err_upper': 1.0}\n",
      "Loading test graphs...\n"
     ]
    },
    {
     "output_type": "stream",
     "name": "stderr",
     "text": [
      "100%|██████████| 1000/1000 [00:06<00:00, 165.83it/s]\n",
      "100%|██████████| 1000/1000 [58:08<00:00,  3.49s/it]\n"
     ]
    },
    {
     "output_type": "stream",
     "name": "stdout",
     "text": [
      "1.000047193723866\n",
      "Saving approximation ratios...\n"
     ]
    },
    {
     "output_type": "stream",
     "name": "stderr",
     "text": [
      "100%|██████████| 1000/1000 [00:08<00:00, 120.10it/s]\n"
     ]
    },
    {
     "output_type": "stream",
     "name": "stdout",
     "text": [
      "Saving solutions...\n"
     ]
    },
    {
     "output_type": "stream",
     "name": "stderr",
     "text": [
      "100%|██████████| 1000/1000 [00:08<00:00, 119.31it/s]\n"
     ]
    },
    {
     "output_type": "stream",
     "name": "stdout",
     "text": [
      "Saving solution lengths...\n"
     ]
    },
    {
     "output_type": "stream",
     "name": "stderr",
     "text": [
      "100%|██████████| 1000/1000 [00:08<00:00, 120.77it/s]\n"
     ]
    }
   ],
   "metadata": {}
  },
  {
   "cell_type": "code",
   "execution_count": null,
   "source": [],
   "outputs": [],
   "metadata": {}
  },
  {
   "cell_type": "markdown",
   "source": [
    "# Test helper function"
   ],
   "metadata": {}
  },
  {
   "cell_type": "code",
   "execution_count": null,
   "source": [
    "graph = graph_list[0]\n",
    "length, solution, time_ = dqn.Evaluate(g=graph)"
   ],
   "outputs": [],
   "metadata": {}
  },
  {
   "cell_type": "code",
   "execution_count": null,
   "source": [
    "solution, length"
   ],
   "outputs": [],
   "metadata": {}
  },
  {
   "cell_type": "code",
   "execution_count": null,
   "source": [
    "# check whether length calculation is correct\n",
    "def calc_tour_length(graph, solution):\n",
    "    tot_len = 0\n",
    "    for i in range(np.array(solution).shape[0]):\n",
    "        if i == np.array(solution).shape[0] - 1:\n",
    "            tot_len += graph[solution[i]][solution[0]]['weight']\n",
    "        else:\n",
    "            tot_len += graph[solution[i]][solution[i + 1]]['weight']\n",
    "    return tot_len"
   ],
   "outputs": [],
   "metadata": {}
  },
  {
   "cell_type": "code",
   "execution_count": null,
   "source": [
    "def add_node(graph, cur_sol, new_node):\n",
    "    cur_dist = 10000000.0\n",
    "    for i in range(0, np.array(cur_sol).shape[0]):\n",
    "        if i + 1 == np.array(cur_sol).shape[0]:\n",
    "            adj = cur_sol[0]\n",
    "        else:\n",
    "            adj = cur_sol[i + 1]\n",
    "        if cur_sol[i] == adj:\n",
    "            cost = graph[new_node][cur_sol[i]]['weight'] + graph[new_node][adj]['weight']\n",
    "        else:\n",
    "            cost = graph[new_node][cur_sol[i]]['weight'] + graph[new_node][adj]['weight'] - graph[cur_sol[i]][adj]['weight']\n",
    "        if cost < cur_dist:\n",
    "            cur_dist = cost\n",
    "            pos = i + 1\n",
    "    cur_sol.insert(pos, new_node)\n",
    "    return  cur_dist"
   ],
   "outputs": [],
   "metadata": {}
  },
  {
   "cell_type": "code",
   "execution_count": null,
   "source": [
    "def calc_helper_tour(g):\n",
    "    cur_sol = [0]\n",
    "    rem_nodes = list(np.arange(g.number_of_nodes()))\n",
    "    rem_nodes.remove(0)\n",
    "    tour_length = 0\n",
    "    while np.array(cur_sol).shape[0] < g.number_of_nodes():\n",
    "        if np.array(rem_nodes).shape[0]-1 == 0:\n",
    "            rand_idx = 0\n",
    "        else:\n",
    "            rand_idx = np.random.randint(0, np.array(rem_nodes).shape[0]-1)\n",
    "        new_node = rem_nodes[rand_idx]\n",
    "        tour_length += add_node(g, cur_sol, new_node)\n",
    "        rem_nodes.remove(new_node)\n",
    "    return tour_length, cur_sol\n"
   ],
   "outputs": [],
   "metadata": {}
  },
  {
   "cell_type": "code",
   "execution_count": null,
   "source": [
    "max_result = -np.inf\n",
    "min_result = np.inf\n",
    "for i in range(100):\n",
    "    help_lengths = []\n",
    "    for graph in graph_list:\n",
    "        help_lengths.append(calc_helper_tour(graph)[0])\n",
    "\n",
    "    true_lengths = None\n",
    "    with open(data_dir+'lengths.txt', 'r') as f:\n",
    "        lines = f.readlines()\n",
    "        lines = [float(line.split(':')[-1].strip()) for line in lines]\n",
    "    true_lengths = lines\n",
    "    result = np.mean([length[0]/length[1] for length in zip(help_lengths, true_lengths)])\n",
    "    if result < min_result:\n",
    "        min_result = result\n",
    "    if result > max_result:\n",
    "        max_result = result"
   ],
   "outputs": [],
   "metadata": {}
  },
  {
   "cell_type": "code",
   "execution_count": null,
   "source": [
    "print(min_result)\n",
    "print(max_result)"
   ],
   "outputs": [],
   "metadata": {}
  },
  {
   "cell_type": "code",
   "execution_count": null,
   "source": [],
   "outputs": [],
   "metadata": {}
  }
 ]
}